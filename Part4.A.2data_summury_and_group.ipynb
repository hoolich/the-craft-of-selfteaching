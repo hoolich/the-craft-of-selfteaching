{
 "cells": [
  {
   "cell_type": "markdown",
   "metadata": {},
   "source": [
    "# 数据聚合与分组运算\n",
    "对数据集进行分组并对各组应用一个函数（无论是聚合还是转换），通常是数据分析工作中的重要环节。在将数据集加载、融合、准备好之后，通常就是计算分组统计或生成透视表。pandas提供了一个灵活高效的gruopby功能，它使你能以一种自然的方式对数据集进行切片、切块、摘要等操作。\n",
    "\n",
    "关系型数据库和SQL（Structured Query Language，结构化查询语言）能够如此流行的原因之一就是其能够方便地对数据进行连接、过滤、转换和聚合。但是，像SQL这样的查询语言所能执行的分组运算的种类很有限。在本章中你将会看到，由于Python和pandas强大的表达能力，我们可以执行复杂得多的分组运算（利用任何可以接受pandas对象或NumPy数组的函数）。在本章中，你将会学到：\n",
    "\n",
    "* 使用一个或多个键（形式可以是函数、数组或DataFrame列名）分割pandas对象。\n",
    "* 计算分组的概述统计，比如数量、平均值或标准差，或是用户定义的函数。\n",
    "* 应用组内转换或其他运算，如规格化、线性回归、排名或选取子集等。\n",
    "* 计算透视表或交叉表。\n",
    "* 执行分位数分析以及其它统计分组分析。\n",
    "## Group by机制\n",
    "![how-to-groupby](images/groupby.png)"
   ]
  },
  {
   "cell_type": "code",
   "execution_count": 34,
   "metadata": {},
   "outputs": [
    {
     "name": "stdout",
     "output_type": "stream",
     "text": [
      "  key1 key2     data1     data2\n",
      "0    a  one -0.001708 -0.578242\n",
      "1    a  two  0.797194 -0.040421\n",
      "2    b  one  1.269027  0.322051\n",
      "3    b  two -0.519620 -0.760153\n",
      "4    a  one -0.478164 -1.497868\n",
      "0   -0.001708\n",
      "1    0.797194\n",
      "2    1.269027\n",
      "3   -0.519620\n",
      "4   -0.478164\n",
      "Name: data1, dtype: float64\n"
     ]
    }
   ],
   "source": [
    "import pandas as pd\n",
    "import numpy as np\n",
    "df = pd.DataFrame({'key1' : ['a', 'a', 'b', 'b', 'a'],'key2' : ['one', 'two', 'one', 'two', 'one'],'data1' : np.random.randn(5),'data2' : np.random.randn(5)})\n",
    "print(df)\n",
    "# print(df.index)\n",
    "# summmury = df['data1'].groupby(df['key1']).sum()#group by的写法\n",
    "# print(summmury)\n",
    "# summmury2 = df['data1'].groupby([df['key1'],df['key2']]).sum()#group by可以多个字段，注意group by([])\n",
    "# print(summmury2)\n",
    "# print(summmury2.unstack())#层次化索引,看的更清晰一些\n",
    "# states = np.array(['Ohio', 'Ohio', 'California', 'California', 'Ohio'])\n",
    "# years = np.array([2005, 2006, 2005, 2006, 2005])\n",
    "#打印数据\n",
    "print(df['data1'])\n",
    "print(df['data1'].groupby(df['key1']).sum())\n",
    "# print(states)\n",
    "# print(years)\n",
    "# print(df['data1'].groupby([states, years]).sum())#其中states就是key1，years就是key2，只是其中的内容变成了states和years，类似sql中的groupby sum\n",
    "# print(df.groupby(['key1', 'key2']).size())#类似sql中的groupby count\n",
    "\n",
    "\n"
   ]
  },
  {
   "cell_type": "markdown",
   "metadata": {},
   "source": [
    "## 对分组进行迭代\n",
    "GroupBy对象支持迭代，可以产生一组二元元组（由分组名和数据块组成）。看下面的例子："
   ]
  },
  {
   "cell_type": "code",
   "execution_count": 27,
   "metadata": {},
   "outputs": [
    {
     "name": "stdout",
     "output_type": "stream",
     "text": [
      "  key1 key2     data1     data2\n",
      "0    a  one -0.595198 -0.581745\n",
      "1    a  two -1.375262  0.054339\n",
      "2    b  one  1.261285  0.603038\n",
      "3    b  two -0.711359  1.013885\n",
      "4    a  one  0.021047  1.038116\n",
      "a\n",
      "  key1 key2     data1     data2\n",
      "0    a  one -0.595198 -0.581745\n",
      "1    a  two -1.375262  0.054339\n",
      "4    a  one  0.021047  1.038116\n",
      "b\n",
      "  key1 key2     data1     data2\n",
      "2    b  one  1.261285  0.603038\n",
      "3    b  two -0.711359  1.013885\n"
     ]
    }
   ],
   "source": [
    "import pandas as pd\n",
    "import numpy as np\n",
    "df = pd.DataFrame({'key1' : ['a', 'a', 'b', 'b', 'a'],'key2' : ['one', 'two', 'one', 'two', 'one'],'data1' : np.random.randn(5),'data2' : np.random.randn(5)})\n",
    "print(df)\n",
    "for name, group in df.groupby('key1'):#迭代打印\n",
    "   print(name)#打印key1分组中分组名称\n",
    "   print(group)#打印分组信息"
   ]
  },
  {
   "cell_type": "markdown",
   "metadata": {},
   "source": [
    "对于多重键的情况，元组的第一个元素将会是由键值组成的元组："
   ]
  },
  {
   "cell_type": "code",
   "execution_count": 28,
   "metadata": {},
   "outputs": [
    {
     "name": "stdout",
     "output_type": "stream",
     "text": [
      "('a', 'one')\n",
      "  key1 key2     data1     data2\n",
      "0    a  one -0.595198 -0.581745\n",
      "4    a  one  0.021047  1.038116\n",
      "('a', 'two')\n",
      "  key1 key2     data1     data2\n",
      "1    a  two -1.375262  0.054339\n",
      "('b', 'one')\n",
      "  key1 key2     data1     data2\n",
      "2    b  one  1.261285  0.603038\n",
      "('b', 'two')\n",
      "  key1 key2     data1     data2\n",
      "3    b  two -0.711359  1.013885\n"
     ]
    }
   ],
   "source": [
    "for (k1, k2), group in df.groupby(['key1', 'key2']):\n",
    "  print((k1, k2))\n",
    "  print(group)"
   ]
  },
  {
   "cell_type": "markdown",
   "metadata": {},
   "source": [
    "当然，你可以对这些数据片段做任何操作。有一个你可能会觉得有用的运算：将这些数据片段做成一个字典："
   ]
  },
  {
   "cell_type": "code",
   "execution_count": 33,
   "metadata": {},
   "outputs": [
    {
     "data": {
      "text/plain": [
       "{'a':   key1 key2     data1     data2\n",
       " 0    a  one -0.595198 -0.581745\n",
       " 1    a  two -1.375262  0.054339\n",
       " 4    a  one  0.021047  1.038116,\n",
       " 'b':   key1 key2     data1     data2\n",
       " 2    b  one  1.261285  0.603038\n",
       " 3    b  two -0.711359  1.013885}"
      ]
     },
     "execution_count": 33,
     "metadata": {},
     "output_type": "execute_result"
    }
   ],
   "source": [
    "pieces = dict(list(df.groupby('key1')))\n",
    "pieces#还可以以key1为key"
   ]
  }
 ],
 "metadata": {
  "interpreter": {
   "hash": "21ee8af2579a8192c5b3880b850b5f93eed7daf2eb79d75b82c39de695db0d6e"
  },
  "kernelspec": {
   "display_name": "Python 3.9.7 ('base')",
   "language": "python",
   "name": "python3"
  },
  "language_info": {
   "codemirror_mode": {
    "name": "ipython",
    "version": 3
   },
   "file_extension": ".py",
   "mimetype": "text/x-python",
   "name": "python",
   "nbconvert_exporter": "python",
   "pygments_lexer": "ipython3",
   "version": "3.9.7"
  },
  "orig_nbformat": 4
 },
 "nbformat": 4,
 "nbformat_minor": 2
}
