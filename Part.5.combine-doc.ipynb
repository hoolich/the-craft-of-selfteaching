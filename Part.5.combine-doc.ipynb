{
 "cells": [
  {
   "cell_type": "code",
   "execution_count": 2,
   "metadata": {},
   "outputs": [
    {
     "ename": "ModuleNotFoundError",
     "evalue": "No module named 'docx'",
     "output_type": "error",
     "traceback": [
      "\u001b[0;31m---------------------------------------------------------------------------\u001b[0m",
      "\u001b[0;31mModuleNotFoundError\u001b[0m                       Traceback (most recent call last)",
      "\u001b[0;32m/var/folders/0n/6mryfm8x06gfzddk4dympfg80000gn/T/ipykernel_10167/192274820.py\u001b[0m in \u001b[0;36m<module>\u001b[0;34m\u001b[0m\n\u001b[1;32m      1\u001b[0m \u001b[0;32mimport\u001b[0m \u001b[0mxlrd\u001b[0m\u001b[0;34m\u001b[0m\u001b[0;34m\u001b[0m\u001b[0m\n\u001b[0;32m----> 2\u001b[0;31m \u001b[0;32mfrom\u001b[0m \u001b[0mdocx\u001b[0m \u001b[0;32mimport\u001b[0m \u001b[0mDocument\u001b[0m\u001b[0;34m\u001b[0m\u001b[0;34m\u001b[0m\u001b[0m\n\u001b[0m\u001b[1;32m      3\u001b[0m \u001b[0;32mfrom\u001b[0m \u001b[0mpathlib\u001b[0m \u001b[0;32mimport\u001b[0m \u001b[0mPath\u001b[0m\u001b[0;34m,\u001b[0m \u001b[0mPurePath\u001b[0m\u001b[0;34m\u001b[0m\u001b[0;34m\u001b[0m\u001b[0m\n\u001b[1;32m      4\u001b[0m \u001b[0;32mimport\u001b[0m \u001b[0mdatetime\u001b[0m\u001b[0;34m\u001b[0m\u001b[0;34m\u001b[0m\u001b[0m\n\u001b[1;32m      5\u001b[0m \u001b[0;34m\u001b[0m\u001b[0m\n",
      "\u001b[0;31mModuleNotFoundError\u001b[0m: No module named 'docx'"
     ]
    }
   ],
   "source": [
    "import xlrd\n",
    "from docx import Document\n",
    "from pathlib import Path, PurePath\n",
    "import datetime\n",
    "\n",
    "today=datetime.date.today().strftime('%Y-%m-%d')\n",
    "\n",
    "# 客户信息文件\n",
    "customer = '/Users/edz/Desktop/效率专栏/文章2/邀请函样例文件/客户信息.xlsx'\n",
    "\n",
    "# 邀请函模版\n",
    "invitation = '/Users/edz/Desktop/效率专栏/文章2/邀请函样例文件/邀请函模版.docx'\n",
    "\n",
    "# 邀请函路径\n",
    "invitation_path = '/Users/edz/Desktop/效率专栏/文章2/邀请函样例文件/'\n",
    "\n",
    "# 替换内容\n",
    "replace_content = {\n",
    "    '<姓名>' : 'no_name',\n",
    "    '<性别>' : 'm_f',\n",
    "    '<今天日期>' : today\n",
    "}\n",
    "\n",
    "def generat_invitation():\n",
    "    '''\n",
    "    生成邀请函文件\n",
    "    '''\n",
    "    doc = Document(invitation)\n",
    "    # 取出每一段\n",
    "    for para in doc.paragraphs:\n",
    "        for key, value in replace_content.items():\n",
    "            if key in para.text:\n",
    "                # 逐个关键字进行替换\n",
    "                para.text = para.text.replace(key, value)\n",
    "\n",
    "    file_name = PurePath(invitation_path).with_name(replace_content['<姓名>']).with_suffix('.docx')\n",
    "\n",
    "    doc.save(file_name)\n",
    "\n",
    "\n",
    "def get_customer(customer_file: Path):\n",
    "    '''\n",
    "    获取邀请函信息\n",
    "    '''\n",
    "    # 从第一个sheet中取出客户信息\n",
    "    data = xlrd.open_workbook(customer_file)\n",
    "    table = data.sheets()[0]\n",
    "\n",
    "    # 取得客户数量\n",
    "    customer_number = table.nrows\n",
    "\n",
    "    for line in range(1, customer_number):\n",
    "        content = table.row_values(rowx=line, start_colx=0, end_colx=None)\n",
    "        replace_content['<姓名>'] = content[0]\n",
    "        replace_content['<性别>'] = content[1]\n",
    "        # print(replace_content)\n",
    "        # {'<姓名>': '韩梅梅', '<性别>': '女士', '<今天日期>': '2021-01-01'}\n",
    "        # {'<姓名>': '李雷', '<性别>': '先生', '<今天日期>': '2021-01-01'}\n",
    "        generat_invitation()\n",
    "\n",
    "\n",
    "if __name__ == '__main__':\n",
    "    get_customer(customer)\n",
    "\n"
   ]
  }
 ],
 "metadata": {
  "interpreter": {
   "hash": "21ee8af2579a8192c5b3880b850b5f93eed7daf2eb79d75b82c39de695db0d6e"
  },
  "kernelspec": {
   "display_name": "Python 3.9.7 ('base')",
   "language": "python",
   "name": "python3"
  },
  "language_info": {
   "codemirror_mode": {
    "name": "ipython",
    "version": 3
   },
   "file_extension": ".py",
   "mimetype": "text/x-python",
   "name": "python",
   "nbconvert_exporter": "python",
   "pygments_lexer": "ipython3",
   "version": "3.9.7"
  },
  "orig_nbformat": 4
 },
 "nbformat": 4,
 "nbformat_minor": 2
}
