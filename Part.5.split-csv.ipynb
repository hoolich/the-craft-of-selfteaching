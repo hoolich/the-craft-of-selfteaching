{
 "cells": [
  {
   "cell_type": "markdown",
   "metadata": {},
   "source": [
    "# 拆分excel"
   ]
  },
  {
   "cell_type": "code",
   "execution_count": 7,
   "metadata": {},
   "outputs": [],
   "source": [
    "import xlrd\n",
    "import xlwt\n",
    "from pathlib import Path, PurePath\n",
    "\n",
    "# 工资单文件\n",
    "src_file = '/Users/chenqiang/Desktop/cq-dst/dst.xls'\n",
    "# 拆分文件保存路径\n",
    "dst_path = '/Users/chenqiang/Desktop/cq-dst'\n",
    "\n",
    "\n",
    "data = xlrd.open_workbook(src_file)\n",
    "table = data.sheets()[0]\n",
    "# 取得表头\n",
    "salary_header = table.row_values(rowx=0, start_colx=0, end_colx=None) \n",
    "\n",
    "# 定义写入文件的函数\n",
    "def write_to_file(filename, cnt):\n",
    "    ''' \n",
    "    filename : 写入的文件名\n",
    "    cnt      : 写入的内容\n",
    "    '''\n",
    "    workbook = xlwt.Workbook(encoding='utf-8')\n",
    "    xlsheet = workbook.add_sheet(\"本月工资\")\n",
    "\n",
    "    row = 0\n",
    "    for line in cnt:\n",
    "        col = 0\n",
    "        for cell in line:\n",
    "            xlsheet.write(row, col, cell)\n",
    "            col += 1\n",
    "        row += 1\n",
    "\n",
    "    workbook.save(PurePath(src_file).with_name(filename).with_suffix('.xls'))\n",
    "\n",
    "\n",
    "\n",
    "# 取得员工数量\n",
    "employee_number = table.nrows\n",
    "# 取得每一行,并用第二个单元格作为新的文件名\n",
    "for line in range(1,employee_number):\n",
    "    content = table.row_values(rowx=line, start_colx=0, end_colx=None)\n",
    "    # 将表头和员工数量重新组成一个新的文件 \n",
    "    new_content = []\n",
    "    # 增加表头到要写入的内容中\n",
    "    new_content.append(salary_header)\n",
    "    # 增加员工工资到要写入的内容中\n",
    "    new_content.append(content)\n",
    "    # 调用自定义函数write_to_file()写入新的文件\n",
    "    write_to_file(filename = content[1], cnt = new_content)"
   ]
  }
 ],
 "metadata": {
  "interpreter": {
   "hash": "21ee8af2579a8192c5b3880b850b5f93eed7daf2eb79d75b82c39de695db0d6e"
  },
  "kernelspec": {
   "display_name": "Python 3.9.7 ('base')",
   "language": "python",
   "name": "python3"
  },
  "language_info": {
   "codemirror_mode": {
    "name": "ipython",
    "version": 3
   },
   "file_extension": ".py",
   "mimetype": "text/x-python",
   "name": "python",
   "nbconvert_exporter": "python",
   "pygments_lexer": "ipython3",
   "version": "3.9.7"
  },
  "orig_nbformat": 4
 },
 "nbformat": 4,
 "nbformat_minor": 2
}
