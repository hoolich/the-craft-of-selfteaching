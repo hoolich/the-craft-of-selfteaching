{
 "cells": [
  {
   "cell_type": "markdown",
   "metadata": {},
   "source": [
    "# 合并excel"
   ]
  },
  {
   "cell_type": "code",
   "execution_count": 2,
   "metadata": {},
   "outputs": [
    {
     "name": "stdout",
     "output_type": "stream",
     "text": [
      "[1.0, '张三', 300.0, 30.0, 100.0]\n",
      "[2.0, '李四', 200.0, 20.0, 100.0]\n",
      "[1.0, '王五', 200.0, 20.0, 100.0]\n",
      "[2.0, '陈器', 200.0, 20.0, 100.0]\n",
      "[1.0, '陈王', 200.0, 20.0, 100.0]\n",
      "[2.0, '陈器', 200.0, 20.0, 100.0]\n"
     ]
    }
   ],
   "source": [
    "\n",
    "import xlrd\n",
    "import xlwt\n",
    "from pathlib import Path, PurePath\n",
    "\n",
    "# 指定要合并excel的路径\n",
    "src_path = '/Users/chenqiang/Desktop/cq'\n",
    "# 目标文件地址\n",
    "dst_file='/Users/chenqiang/Desktop/dst.xls'\n",
    "# 取得该目录下所有的xlsx格式文件\n",
    "p = Path(src_path)\n",
    "# 把匹配文件放入到files的数组中\n",
    "files = [x for x in p.iterdir() if PurePath(x).match('*.xls')]\n",
    "# 准备一个列表存放读取结果\n",
    "new_content = []\n",
    "# 对每一个文件进行重复处理\n",
    "for file in files: \n",
    "    # 用文件名作为每个文件编号的标识 \n",
    "   number = file.stem \n",
    "    # 打开文件\n",
    "   data = xlrd.open_workbook(file)\n",
    "   # 将第一个表写入到table中 \n",
    "   table = data.sheets()[0]\n",
    "   # 取得每个excel的总行数\n",
    "   employee_number = table.nrows\n",
    "   for line in range(1,employee_number): \n",
    "       content = table.row_values(rowx=line, start_colx=0, end_colx=None)\n",
    "       new_content.append(content)\n",
    "       print(content)\n",
    "# 准备写入文件的表头\n",
    "table_header = ['员工编号', '姓名', '工资','出勤','奖金']\n",
    "workbook = xlwt.Workbook(encoding='utf-8')\n",
    "xlsheet = workbook.add_sheet(\"统计结果\")\n",
    "# 写入表头\n",
    "row = 0\n",
    "col = 0\n",
    "for cell_header in table_header: \n",
    "    xlsheet.write(row, col, cell_header) \n",
    "    col += 1\n",
    "# 向下移动一行\n",
    "row += 1\n",
    "# 取出每一行内容\n",
    "for line in new_content: \n",
    "    col = 0 \n",
    "    # 取出每个单元格内容 \n",
    "    for cell in line: \n",
    "        # 写入内容 \n",
    "        xlsheet.write(row, col, cell) \n",
    "        # 向右移动一个单元格 \n",
    "        col += 1 \n",
    "    # 向下移动一行 \n",
    "    row += 1\n",
    "# 保存最终结果\n",
    "workbook.save(dst_file)"
   ]
  }
 ],
 "metadata": {
  "interpreter": {
   "hash": "21ee8af2579a8192c5b3880b850b5f93eed7daf2eb79d75b82c39de695db0d6e"
  },
  "kernelspec": {
   "display_name": "Python 3.9.7 ('base')",
   "language": "python",
   "name": "python3"
  },
  "language_info": {
   "codemirror_mode": {
    "name": "ipython",
    "version": 3
   },
   "file_extension": ".py",
   "mimetype": "text/x-python",
   "name": "python",
   "nbconvert_exporter": "python",
   "pygments_lexer": "ipython3",
   "version": "3.9.7"
  },
  "orig_nbformat": 4
 },
 "nbformat": 4,
 "nbformat_minor": 2
}
