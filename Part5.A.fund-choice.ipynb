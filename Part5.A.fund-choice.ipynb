{
 "cells": [
  {
   "cell_type": "markdown",
   "metadata": {},
   "source": [
    "## 基金排行筛选\n",
    "之前通过excel来筛选基金，但是太多的人工操作，希望通过导出excel，然后通过pandas来达到基金筛选的效果\n",
    "4433法则筛选股票型基金\n",
    "每项取top1/x:\n",
    "\t\t1.选择1年期间排名 前top1/4\n",
    "\t\t2.选择2/3/5年 前top1/4\n",
    "\t\t3.近6个月 前top1/3\n",
    "\t\t4.近3个月 前top1/3\n"
   ]
  },
  {
   "cell_type": "code",
   "execution_count": 8,
   "metadata": {},
   "outputs": [],
   "source": [
    "import pandas as pd\n",
    "import re\n",
    "import numpy as np\n",
    "data = pd.read_csv(\"fundrank.csv\")\n",
    "data\n",
    "data2=data.drop([0])\n",
    "# data2\n",
    "# data2.loc[data2['近2年'] =='---', '近2年'] = '0%'#loc相当于sql 中的where和replace\n",
    "def get_num(data2):\n",
    "    if data2=='---':\n",
    "        f=list('0')\n",
    "    else:\n",
    "        pat_K = r\"(.*)%\"\n",
    "        f=re.findall(pattern=pat_K, string=data2)\n",
    "    return f[0]\n",
    "\n",
    "data2['1y']= data2['近1年'].astype(str).apply(get_num).astype(float)   #   先将数字转换成字符串用正则转换，转换完\n",
    "data2['2y']= data2['近2年'].astype(str).apply(get_num).astype(float)    #   先将数字转换成字符串用正则转换，转换完\n",
    "data2['3y']= data2['近3年'].astype(str).apply(get_num).astype(float)    #   先将数字转换成字符串用正则转换，转换完\n",
    "data2['5y']= data2['近5年'].astype(str).apply(get_num).astype(float)    #   先将数字转换成字符串用正则转换，转换完\n",
    "data2['3m']= data2['近3月'].astype(str).apply(get_num).astype(float)    #   先将数字转换成字符串用正则转换，转换完\n",
    "data2['6m']= data2['近6月'].astype(str).apply(get_num).astype(float)    #   先将数字转换成字符串用正则转换，转换完\n",
    "data2['1y_rank']=data2['1y'].rank(method='dense',ascending=False)\n",
    "data2['2y_rank']=data2['2y'].rank(method='dense',ascending=False)\n",
    "data2['3y_rank']=data2['3y'].rank(method='dense',ascending=False)\n",
    "data2['5y_rank']=data2['5y'].rank(method='dense',ascending=False)\n",
    "data2['3m_rank']=data2['3m'].rank(method='dense',ascending=False)\n",
    "data2['6m_rank']=data2['6m'].rank(method='dense',ascending=False)\n",
    "data3=data2[['基金','基金简称','1y','2y','3y','5y','3m','6m','1y_rank','2y_rank','3y_rank','5y_rank','3m_rank','6m_rank']]\n",
    "data4=data3[data3['1y_rank']<2248/4]\n",
    "data4\n",
    "data5=data4[data4['2y_rank']<2248/4]\n",
    "data5\n",
    "data6=data5[data5['3y_rank']<2248/4]\n",
    "data6\n",
    "data7=data6[data6['5y_rank']<2248/4]\n",
    "data7\n",
    "data8=data7[data7['3m_rank']<2248/3]\n",
    "data8\n",
    "data9=data8[data8['6m_rank']<2248/3]\n",
    "data9\n",
    "data9.to_csv('fundchoiceresult.csv')\n"
   ]
  }
 ],
 "metadata": {
  "interpreter": {
   "hash": "21ee8af2579a8192c5b3880b850b5f93eed7daf2eb79d75b82c39de695db0d6e"
  },
  "kernelspec": {
   "display_name": "Python 3.9.7 ('base')",
   "language": "python",
   "name": "python3"
  },
  "language_info": {
   "codemirror_mode": {
    "name": "ipython",
    "version": 3
   },
   "file_extension": ".py",
   "mimetype": "text/x-python",
   "name": "python",
   "nbconvert_exporter": "python",
   "pygments_lexer": "ipython3",
   "version": "3.9.16"
  },
  "orig_nbformat": 4
 },
 "nbformat": 4,
 "nbformat_minor": 2
}
