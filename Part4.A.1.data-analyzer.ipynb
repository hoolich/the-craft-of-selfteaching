{
 "cells": [
  {
   "cell_type": "markdown",
   "metadata": {},
   "source": [
    "# 数据分析"
   ]
  },
  {
   "cell_type": "markdown",
   "metadata": {},
   "source": [
    "经常有人说不会数据分析就没有未来，所以数据分析的作用性非常大，在拥有数据分析的工具使用的基础后如果还有数据分析的思维以及能力，那么我们的稀缺性会更高，毕竟在目前公司里编程语言开发使用者占大多数，但能在使用的基础之上还能做到对于数据的分析研究并挖掘，这是比较稀缺的。\n",
    "数据分析中用到的模块最多的就是numpy,pandas和matplotlib还有seaborn最后是re，接下来就一一讲解下其中的用法，以及对应的使用场景，毕竟要结合刻意思考，刻意练习还有以教代练。\n",
    "pandas经常和其它工具一同使用，如数值计算工具NumPy和SciPy，分析库statsmodels和scikit-learn，和数据可视化库matplotlib。pandas是基于NumPy数组构建的，特别是基于数组的函数和不使用for循环的数据处理。\n",
    "虽然pandas采用了大量的NumPy编码风格，但二者最大的不同是pandas是专门为处理表格和混杂数据设计的。而NumPy更适合处理统一的数值数组数据。\n",
    "## pandas\n",
    "数据分析中用到的模块最多的就是numpy,pandas和matplotlib还有seaborn最后是re，接下来就一一讲解下其中的用法，以及对应的使用场景，毕竟要结合刻意思考，刻意练习还有以教代练。\n",
    "pandas经常和其它工具一同使用，如数值计算工具NumPy和SciPy，分析库statsmodels和scikit-learn，和数据可视化库matplotlib。pandas是基于NumPy数组构建的，特别是基于数组的函数和不使用for循环的数据处理。\n",
    "虽然pandas采用了大量的NumPy编码风格，但二者最大的不同是pandas是专门为处理表格和混杂数据设计的。而NumPy更适合处理统一的数值数组数据。\n",
    "那么如何使用pandas呢？\n"
   ]
  },
  {
   "cell_type": "code",
   "execution_count": 2,
   "metadata": {},
   "outputs": [],
   "source": [
    "import pandas as pd #给pandas别名，更好的使用这个模块"
   ]
  },
  {
   "cell_type": "markdown",
   "metadata": {},
   "source": [
    "### pandas的数据结构应用\n",
    "#### Series\n",
    "Series是一种类似于数组的对象，类似于Numpy，它由索引和数据所构成\n",
    "比如以下例子："
   ]
  },
  {
   "cell_type": "code",
   "execution_count": 8,
   "metadata": {},
   "outputs": [
    {
     "name": "stdout",
     "output_type": "stream",
     "text": [
      "0    1\n",
      "1    2\n",
      "2    3\n",
      "3    4\n",
      "4    5\n",
      "5    6\n",
      "6    7\n",
      "7    8\n",
      "8    9\n",
      "dtype: int64\n",
      "[1 2 3 4 5 6 7 8 9]\n",
      "RangeIndex(start=0, stop=9, step=1)\n"
     ]
    }
   ],
   "source": [
    "import pandas as pd #给pandas别名，更好的使用这个模块\n",
    "obj = pd.Series(list(range(1,10)))\n",
    "print(obj)\n",
    "print(obj.values)\n",
    "print(obj.index)"
   ]
  },
  {
   "cell_type": "markdown",
   "metadata": {},
   "source": [
    "### 索引选取和过滤\n",
    "#### 索引和过滤"
   ]
  },
  {
   "cell_type": "code",
   "execution_count": 10,
   "metadata": {},
   "outputs": [
    {
     "name": "stdout",
     "output_type": "stream",
     "text": [
      "1     1\n",
      "3     2\n",
      "5     3\n",
      "7     4\n",
      "9     5\n",
      "11    6\n",
      "13    7\n",
      "15    8\n",
      "17    9\n",
      "dtype: int64\n",
      "[1 2 3 4 5 6 7 8 9]\n",
      "Int64Index([1, 3, 5, 7, 9, 11, 13, 15, 17], dtype='int64')\n",
      "2\n",
      "1    1\n",
      "3    2\n",
      "5    3\n",
      "dtype: int64\n",
      "1     1\n",
      "3     2\n",
      "5     3\n",
      "7     4\n",
      "9     5\n",
      "11    6\n",
      "13    7\n",
      "15    8\n",
      "17    9\n",
      "dtype: int64\n",
      "11    6\n",
      "13    7\n",
      "15    8\n",
      "17    9\n",
      "dtype: int64\n",
      "1     5\n",
      "3     5\n",
      "5     5\n",
      "7     4\n",
      "9     5\n",
      "11    6\n",
      "13    7\n",
      "15    8\n",
      "17    9\n",
      "dtype: int64\n",
      "          one  two  three  four\n",
      "Ohio        0    1      2     3\n",
      "Colorado    4    5      6     7\n",
      "Utah        8    9     10    11\n",
      "New York   12   13     14    15\n",
      "            one    two  three   four\n",
      "Ohio       True   True   True   True\n",
      "Colorado   True  False  False  False\n",
      "Utah      False  False  False  False\n",
      "New York  False  False  False  False\n",
      "          one  two  three  four\n",
      "Ohio        5    5      5     5\n",
      "Colorado    5    5      6     7\n",
      "Utah        8    9     10    11\n",
      "New York   12   13     14    15\n"
     ]
    }
   ],
   "source": [
    "import pandas as pd #给pandas别名，更好的使用这个模块\n",
    "obj2 = pd.Series(list(range(1,10)),index=list(range(1,19,2)))\n",
    "print(obj2)\n",
    "print(obj2.values)\n",
    "print(obj2.index)\n",
    "print(obj2[3])#也可以拿到单个或者多个的值\n",
    "print(obj2[[1,3,5]])#注意当中一定要有两次的[]，这样就能拿到对应的数据\n",
    "print(obj2[:10])#切片的话优先会对value进行切片，因此要注意，除非其中没有value值才会对索引进行过滤\n",
    "print(obj2[obj2>5])#跟上面切片一样的，也是可以通过判断筛选出对应的索引然后再选到对应的值\n",
    "obj2[1,3,5]=5 #这样对应的是索引\n",
    "print(obj2)\n",
    "4 in obj2 #这里又是指的index索引\n",
    "#再举个例子\n",
    "data = pd.DataFrame(np.arange(16).reshape((4, 4)),index=['Ohio', 'Colorado', 'Utah', 'New York'],columns=['one', 'two', 'three', 'four'])\n",
    "print(data)\n",
    "print(data<5)#可以判断是否<5\n",
    "#也可以通过选取<5的单元格进行值替换\n",
    "data[(data<5)]=5\n",
    "print(data)"
   ]
  },
  {
   "cell_type": "markdown",
   "metadata": {},
   "source": [
    "我们其实看上面例子可以看出来Series是带有索引的数组，那不是和字典类似吗？那我们是不是可以用来应用字典呢？答案是当然可以"
   ]
  },
  {
   "cell_type": "code",
   "execution_count": 27,
   "metadata": {},
   "outputs": [
    {
     "name": "stdout",
     "output_type": "stream",
     "text": [
      "mike       hello\n",
      "david         hi\n",
      "andy     welcome\n",
      "dtype: object\n",
      "david         hi\n",
      "mike       hello\n",
      "andy     welcome\n",
      "jack         NaN\n",
      "dtype: object\n",
      "david    False\n",
      "mike     False\n",
      "andy     False\n",
      "jack      True\n",
      "dtype: bool\n",
      "david    False\n",
      "mike     False\n",
      "andy     False\n",
      "jack      True\n",
      "dtype: bool\n"
     ]
    }
   ],
   "source": [
    "import pandas as pd #给pandas别名，更好的使用这个模块\n",
    "a_dictionary={'mike':'hello','david':'hi','andy':'welcome'}  \n",
    "obj3 = pd.Series(a_dictionary)\n",
    "print(obj3)\n",
    "#当然也可以改变字典的顺序比如\n",
    "obj4 = pd.Series(a_dictionary,index=['david','mike','andy','jack'])\n",
    "print(obj4)\n",
    "#我们发现当中有null值,可以通过isnull来判断\n",
    "print(pd.isnull(obj4))\n",
    "#也可以这样\n",
    "print(obj4.isnull())"
   ]
  },
  {
   "cell_type": "markdown",
   "metadata": {},
   "source": [
    "我们还可以对数据进行重新索引也可以进行填充，用method选项填充"
   ]
  },
  {
   "cell_type": "code",
   "execution_count": 9,
   "metadata": {},
   "outputs": [
    {
     "data": {
      "text/plain": [
       "0      blue\n",
       "1      blue\n",
       "2    purple\n",
       "3    purple\n",
       "4    yellow\n",
       "5    yellow\n",
       "dtype: object"
      ]
     },
     "execution_count": 9,
     "metadata": {},
     "output_type": "execute_result"
    }
   ],
   "source": [
    "obj3 = pd.Series(['blue', 'purple', 'yellow'], index=[0, 2, 4])\n",
    "obj3\n",
    "obj3.reindex(range(6))#这样数据就会有部分为NaN\n",
    "obj3.reindex(range(6),method='ffill')#可以进行填充"
   ]
  },
  {
   "cell_type": "markdown",
   "metadata": {},
   "source": [
    "## DataFrame\n",
    "DataFrame为表格型的数据结构。"
   ]
  },
  {
   "cell_type": "code",
   "execution_count": 6,
   "metadata": {},
   "outputs": [
    {
     "name": "stdout",
     "output_type": "stream",
     "text": [
      "    state  year  pop\n",
      "0    Ohio  2000  1.5\n",
      "1    Ohio  2001  1.7\n",
      "2    Ohio  2002  3.6\n",
      "3  Nevada  2001  2.4\n",
      "4  Nevada  2002  2.9\n",
      "5  Nevada  2003  3.2\n",
      "    state  year  pop\n",
      "0    Ohio  2000  1.5\n",
      "1    Ohio  2001  1.7\n",
      "2    Ohio  2002  3.6\n",
      "3  Nevada  2001  2.4\n",
      "4  Nevada  2002  2.9\n"
     ]
    }
   ],
   "source": [
    "import pandas as pd\n",
    "data = {'state': ['Ohio', 'Ohio', 'Ohio', 'Nevada', 'Nevada', 'Nevada'],\n",
    "        'year': [2000, 2001, 2002, 2001, 2002, 2003],\n",
    "        'pop': [1.5, 1.7, 3.6, 2.4, 2.9, 3.2]}\n",
    "frame = pd.DataFrame(data)\n",
    "print(frame)\n",
    "print(frame.head())"
   ]
  },
  {
   "cell_type": "markdown",
   "metadata": {},
   "source": [
    "当然也可以指定列的顺序"
   ]
  },
  {
   "cell_type": "code",
   "execution_count": 8,
   "metadata": {},
   "outputs": [
    {
     "data": {
      "text/html": [
       "<div>\n",
       "<style scoped>\n",
       "    .dataframe tbody tr th:only-of-type {\n",
       "        vertical-align: middle;\n",
       "    }\n",
       "\n",
       "    .dataframe tbody tr th {\n",
       "        vertical-align: top;\n",
       "    }\n",
       "\n",
       "    .dataframe thead th {\n",
       "        text-align: right;\n",
       "    }\n",
       "</style>\n",
       "<table border=\"1\" class=\"dataframe\">\n",
       "  <thead>\n",
       "    <tr style=\"text-align: right;\">\n",
       "      <th></th>\n",
       "      <th>pop</th>\n",
       "      <th>year</th>\n",
       "      <th>state</th>\n",
       "    </tr>\n",
       "  </thead>\n",
       "  <tbody>\n",
       "    <tr>\n",
       "      <th>0</th>\n",
       "      <td>1.5</td>\n",
       "      <td>2000</td>\n",
       "      <td>Ohio</td>\n",
       "    </tr>\n",
       "    <tr>\n",
       "      <th>1</th>\n",
       "      <td>1.7</td>\n",
       "      <td>2001</td>\n",
       "      <td>Ohio</td>\n",
       "    </tr>\n",
       "    <tr>\n",
       "      <th>2</th>\n",
       "      <td>3.6</td>\n",
       "      <td>2002</td>\n",
       "      <td>Ohio</td>\n",
       "    </tr>\n",
       "    <tr>\n",
       "      <th>3</th>\n",
       "      <td>2.4</td>\n",
       "      <td>2001</td>\n",
       "      <td>Nevada</td>\n",
       "    </tr>\n",
       "    <tr>\n",
       "      <th>4</th>\n",
       "      <td>2.9</td>\n",
       "      <td>2002</td>\n",
       "      <td>Nevada</td>\n",
       "    </tr>\n",
       "    <tr>\n",
       "      <th>5</th>\n",
       "      <td>3.2</td>\n",
       "      <td>2003</td>\n",
       "      <td>Nevada</td>\n",
       "    </tr>\n",
       "  </tbody>\n",
       "</table>\n",
       "</div>"
      ],
      "text/plain": [
       "   pop  year   state\n",
       "0  1.5  2000    Ohio\n",
       "1  1.7  2001    Ohio\n",
       "2  3.6  2002    Ohio\n",
       "3  2.4  2001  Nevada\n",
       "4  2.9  2002  Nevada\n",
       "5  3.2  2003  Nevada"
      ]
     },
     "execution_count": 8,
     "metadata": {},
     "output_type": "execute_result"
    }
   ],
   "source": [
    "pd.DataFrame(data,columns=['pop','year','state'])"
   ]
  },
  {
   "cell_type": "markdown",
   "metadata": {},
   "source": [
    "当然也可以在原来的数据中再加一列"
   ]
  },
  {
   "cell_type": "code",
   "execution_count": 16,
   "metadata": {},
   "outputs": [
    {
     "name": "stdout",
     "output_type": "stream",
     "text": [
      "   pop  year   state debt\n",
      "0  1.5  2000    Ohio  NaN\n",
      "1  1.7  2001    Ohio  NaN\n",
      "2  3.6  2002    Ohio  NaN\n",
      "3  2.4  2001  Nevada  NaN\n",
      "4  2.9  2002  Nevada  NaN\n",
      "5  3.2  2003  Nevada  NaN\n",
      "   pop  year   state debt\n",
      "1  1.5  2000    Ohio  NaN\n",
      "2  1.7  2001    Ohio  NaN\n",
      "3  3.6  2002    Ohio  NaN\n",
      "4  2.4  2001  Nevada  NaN\n",
      "5  2.9  2002  Nevada  NaN\n",
      "6  3.2  2003  Nevada  NaN\n"
     ]
    }
   ],
   "source": [
    "data2=pd.DataFrame(data,columns=['pop','year','state','debt'])\n",
    "print(data2)\n",
    "data2=pd.DataFrame(data,columns=['pop','year','state','debt'],index=list(range(1,7)))\n",
    "print(data2)"
   ]
  },
  {
   "cell_type": "markdown",
   "metadata": {},
   "source": [
    "当然可以给null的值赋值"
   ]
  },
  {
   "cell_type": "code",
   "execution_count": 25,
   "metadata": {},
   "outputs": [
    {
     "name": "stdout",
     "output_type": "stream",
     "text": [
      "   pop  year   state  debt\n",
      "1  1.5  2000    Ohio     1\n",
      "2  1.7  2001    Ohio     2\n",
      "3  3.6  2002    Ohio     3\n",
      "4  2.4  2001  Nevada     4\n",
      "5  2.9  2002  Nevada     5\n",
      "6  3.2  2003  Nevada     6\n",
      "1    1\n",
      "2    2\n",
      "3    3\n",
      "4    4\n",
      "5    5\n",
      "6    6\n",
      "Name: debt, dtype: int64\n",
      "1    1\n",
      "2    2\n",
      "3    3\n",
      "4    4\n",
      "5    5\n",
      "6    6\n",
      "Name: debt, dtype: int64\n"
     ]
    },
    {
     "name": "stderr",
     "output_type": "stream",
     "text": [
      "/var/folders/0n/6mryfm8x06gfzddk4dympfg80000gn/T/ipykernel_36999/681092870.py:2: SettingWithCopyWarning: \n",
      "A value is trying to be set on a copy of a slice from a DataFrame\n",
      "\n",
      "See the caveats in the documentation: https://pandas.pydata.org/pandas-docs/stable/user_guide/indexing.html#returning-a-view-versus-a-copy\n",
      "  data2['debt'][i]=i\n"
     ]
    }
   ],
   "source": [
    "for i in range(1,7):\n",
    "    data2['debt'][i]=i\n",
    "print(data2)\n",
    "print(data2['debt'])\n",
    "print(data2.debt)#这两种方式都是一样的"
   ]
  },
  {
   "cell_type": "markdown",
   "metadata": {},
   "source": [
    "当然也可以添加一个计算列，比如根据判断state是否是'Ohio',如果是就返回True，如果不是就返回False"
   ]
  },
  {
   "cell_type": "code",
   "execution_count": 6,
   "metadata": {},
   "outputs": [
    {
     "data": {
      "text/html": [
       "<div>\n",
       "<style scoped>\n",
       "    .dataframe tbody tr th:only-of-type {\n",
       "        vertical-align: middle;\n",
       "    }\n",
       "\n",
       "    .dataframe tbody tr th {\n",
       "        vertical-align: top;\n",
       "    }\n",
       "\n",
       "    .dataframe thead th {\n",
       "        text-align: right;\n",
       "    }\n",
       "</style>\n",
       "<table border=\"1\" class=\"dataframe\">\n",
       "  <thead>\n",
       "    <tr style=\"text-align: right;\">\n",
       "      <th></th>\n",
       "      <th>pop</th>\n",
       "      <th>year</th>\n",
       "      <th>state</th>\n",
       "      <th>debt</th>\n",
       "      <th>exp</th>\n",
       "    </tr>\n",
       "  </thead>\n",
       "  <tbody>\n",
       "    <tr>\n",
       "      <th>0</th>\n",
       "      <td>1.5</td>\n",
       "      <td>2000</td>\n",
       "      <td>Ohio</td>\n",
       "      <td>NaN</td>\n",
       "      <td>True</td>\n",
       "    </tr>\n",
       "    <tr>\n",
       "      <th>1</th>\n",
       "      <td>1.7</td>\n",
       "      <td>2001</td>\n",
       "      <td>Ohio</td>\n",
       "      <td>NaN</td>\n",
       "      <td>True</td>\n",
       "    </tr>\n",
       "    <tr>\n",
       "      <th>2</th>\n",
       "      <td>3.6</td>\n",
       "      <td>2002</td>\n",
       "      <td>Ohio</td>\n",
       "      <td>NaN</td>\n",
       "      <td>True</td>\n",
       "    </tr>\n",
       "    <tr>\n",
       "      <th>3</th>\n",
       "      <td>2.4</td>\n",
       "      <td>2001</td>\n",
       "      <td>Nevada</td>\n",
       "      <td>NaN</td>\n",
       "      <td>False</td>\n",
       "    </tr>\n",
       "    <tr>\n",
       "      <th>4</th>\n",
       "      <td>2.9</td>\n",
       "      <td>2002</td>\n",
       "      <td>Nevada</td>\n",
       "      <td>NaN</td>\n",
       "      <td>False</td>\n",
       "    </tr>\n",
       "    <tr>\n",
       "      <th>5</th>\n",
       "      <td>3.2</td>\n",
       "      <td>2003</td>\n",
       "      <td>Nevada</td>\n",
       "      <td>NaN</td>\n",
       "      <td>False</td>\n",
       "    </tr>\n",
       "  </tbody>\n",
       "</table>\n",
       "</div>"
      ],
      "text/plain": [
       "   pop  year   state debt    exp\n",
       "0  1.5  2000    Ohio  NaN   True\n",
       "1  1.7  2001    Ohio  NaN   True\n",
       "2  3.6  2002    Ohio  NaN   True\n",
       "3  2.4  2001  Nevada  NaN  False\n",
       "4  2.9  2002  Nevada  NaN  False\n",
       "5  3.2  2003  Nevada  NaN  False"
      ]
     },
     "execution_count": 6,
     "metadata": {},
     "output_type": "execute_result"
    }
   ],
   "source": [
    "import pandas as pd\n",
    "data = {'state': ['Ohio', 'Ohio', 'Ohio', 'Nevada', 'Nevada', 'Nevada'],\n",
    "        'year': [2000, 2001, 2002, 2001, 2002, 2003],\n",
    "        'pop': [1.5, 1.7, 3.6, 2.4, 2.9, 3.2]}\n",
    "data2=pd.DataFrame(data,columns=['pop','year','state','debt'])\n",
    "\n",
    "data2['exp']=data2.state == 'Ohio'\n",
    "data2\n"
   ]
  },
  {
   "cell_type": "code",
   "execution_count": null,
   "metadata": {},
   "outputs": [],
   "source": [
    "也可以用del方法来删除某一列"
   ]
  },
  {
   "cell_type": "code",
   "execution_count": 7,
   "metadata": {},
   "outputs": [
    {
     "data": {
      "text/html": [
       "<div>\n",
       "<style scoped>\n",
       "    .dataframe tbody tr th:only-of-type {\n",
       "        vertical-align: middle;\n",
       "    }\n",
       "\n",
       "    .dataframe tbody tr th {\n",
       "        vertical-align: top;\n",
       "    }\n",
       "\n",
       "    .dataframe thead th {\n",
       "        text-align: right;\n",
       "    }\n",
       "</style>\n",
       "<table border=\"1\" class=\"dataframe\">\n",
       "  <thead>\n",
       "    <tr style=\"text-align: right;\">\n",
       "      <th></th>\n",
       "      <th>pop</th>\n",
       "      <th>year</th>\n",
       "      <th>state</th>\n",
       "      <th>debt</th>\n",
       "    </tr>\n",
       "  </thead>\n",
       "  <tbody>\n",
       "    <tr>\n",
       "      <th>0</th>\n",
       "      <td>1.5</td>\n",
       "      <td>2000</td>\n",
       "      <td>Ohio</td>\n",
       "      <td>NaN</td>\n",
       "    </tr>\n",
       "    <tr>\n",
       "      <th>1</th>\n",
       "      <td>1.7</td>\n",
       "      <td>2001</td>\n",
       "      <td>Ohio</td>\n",
       "      <td>NaN</td>\n",
       "    </tr>\n",
       "    <tr>\n",
       "      <th>2</th>\n",
       "      <td>3.6</td>\n",
       "      <td>2002</td>\n",
       "      <td>Ohio</td>\n",
       "      <td>NaN</td>\n",
       "    </tr>\n",
       "    <tr>\n",
       "      <th>3</th>\n",
       "      <td>2.4</td>\n",
       "      <td>2001</td>\n",
       "      <td>Nevada</td>\n",
       "      <td>NaN</td>\n",
       "    </tr>\n",
       "    <tr>\n",
       "      <th>4</th>\n",
       "      <td>2.9</td>\n",
       "      <td>2002</td>\n",
       "      <td>Nevada</td>\n",
       "      <td>NaN</td>\n",
       "    </tr>\n",
       "    <tr>\n",
       "      <th>5</th>\n",
       "      <td>3.2</td>\n",
       "      <td>2003</td>\n",
       "      <td>Nevada</td>\n",
       "      <td>NaN</td>\n",
       "    </tr>\n",
       "  </tbody>\n",
       "</table>\n",
       "</div>"
      ],
      "text/plain": [
       "   pop  year   state debt\n",
       "0  1.5  2000    Ohio  NaN\n",
       "1  1.7  2001    Ohio  NaN\n",
       "2  3.6  2002    Ohio  NaN\n",
       "3  2.4  2001  Nevada  NaN\n",
       "4  2.9  2002  Nevada  NaN\n",
       "5  3.2  2003  Nevada  NaN"
      ]
     },
     "execution_count": 7,
     "metadata": {},
     "output_type": "execute_result"
    }
   ],
   "source": [
    "del data2['exp']\n",
    "data2\n"
   ]
  },
  {
   "cell_type": "markdown",
   "metadata": {},
   "source": [
    "当然我们还可以对数据进行转置，类似excel的转置"
   ]
  },
  {
   "cell_type": "code",
   "execution_count": 8,
   "metadata": {},
   "outputs": [],
   "source": [
    "data3=data2.T\n"
   ]
  },
  {
   "cell_type": "markdown",
   "metadata": {},
   "source": [
    "我们也可以对DataFrame的数据进行重新索引"
   ]
  },
  {
   "cell_type": "code",
   "execution_count": 9,
   "metadata": {},
   "outputs": [
    {
     "name": "stdout",
     "output_type": "stream",
     "text": [
      "   pop    year   state debt\n",
      "0  1.5  2000.0    Ohio  NaN\n",
      "1  1.7  2001.0    Ohio  NaN\n",
      "2  3.6  2002.0    Ohio  NaN\n",
      "3  2.4  2001.0  Nevada  NaN\n",
      "4  2.9  2002.0  Nevada  NaN\n",
      "5  3.2  2003.0  Nevada  NaN\n",
      "6  NaN     NaN     NaN  NaN\n",
      "7  NaN     NaN     NaN  NaN\n",
      "   year   state debt  pop  exp\n",
      "0  2000    Ohio  NaN  1.5  NaN\n",
      "1  2001    Ohio  NaN  1.7  NaN\n",
      "2  2002    Ohio  NaN  3.6  NaN\n",
      "3  2001  Nevada  NaN  2.4  NaN\n",
      "4  2002  Nevada  NaN  2.9  NaN\n",
      "5  2003  Nevada  NaN  3.2  NaN\n",
      "[[2000 'Ohio' nan 1.5 nan]\n",
      " [2001 'Ohio' nan 1.7 nan]\n",
      " [2002 'Ohio' nan 3.6 nan]\n",
      " [2001 'Nevada' nan 2.4 nan]\n",
      " [2002 'Nevada' nan 2.9 nan]\n",
      " [2003 'Nevada' nan 3.2 nan]]\n"
     ]
    }
   ],
   "source": [
    "data4=data2.reindex(range(8))#这样数据就会有部分为NaN\n",
    "print(data4)\n",
    "data5=data2.reindex(columns=['year','state','debt','pop','exp'])#也可以对列进行索引\n",
    "print(data5)"
   ]
  },
  {
   "cell_type": "markdown",
   "metadata": {},
   "source": [
    "#### 丢弃制定轴上的项\n",
    "我们可以对数据对象的某一列的数据进行丢弃，比如以下例子："
   ]
  },
  {
   "cell_type": "code",
   "execution_count": 5,
   "metadata": {},
   "outputs": [
    {
     "name": "stdout",
     "output_type": "stream",
     "text": [
      "a    0.0\n",
      "b    1.0\n",
      "c    2.0\n",
      "d    3.0\n",
      "e    4.0\n",
      "dtype: float64\n",
      "a    0.0\n",
      "b    1.0\n",
      "c    2.0\n",
      "d    3.0\n",
      "e    4.0\n",
      "dtype: float64\n",
      "a    0.0\n",
      "b    1.0\n",
      "d    3.0\n",
      "e    4.0\n",
      "dtype: float64\n",
      "a    0.0\n",
      "b    1.0\n",
      "dtype: float64\n",
      "          one  two  three  four\n",
      "Ohio        0    1      2     3\n",
      "Colorado    4    5      6     7\n",
      "Utah        8    9     10    11\n",
      "New York   12   13     14    15\n",
      "          one  two  three  four\n",
      "Utah        8    9     10    11\n",
      "New York   12   13     14    15\n",
      "          one  three  four\n",
      "Ohio        0      2     3\n",
      "Colorado    4      6     7\n",
      "Utah        8     10    11\n",
      "New York   12     14    15\n",
      "          one  three  four\n",
      "Ohio        0      2     3\n",
      "Colorado    4      6     7\n",
      "Utah        8     10    11\n",
      "New York   12     14    15\n"
     ]
    }
   ],
   "source": [
    "import pandas as pd\n",
    "import numpy as np\n",
    "obj = pd.Series(np.arange(5.), index=['a', 'b', 'c', 'd', 'e'])\n",
    "print(obj)\n",
    "obj.drop('c')#可以对某一列进行丢弃对其本身不会做任何修改\n",
    "print(obj)\n",
    "obj.drop('c',inplace=True)#可以对某一列进行丢弃对其本身会做任何修改，小心使用inplace，它会销毁所有被删除的数据。\n",
    "print(obj)\n",
    "#当然也可以对对象多个列进行操作\n",
    "obj2=obj.drop(['e','d'])\n",
    "print(obj2)\n",
    "#再举个例子,DataFrame的例子\n",
    "data=pd.DataFrame(np.arange(16).reshape(4,4),index=['Ohio', 'Colorado', 'Utah', 'New York'],columns=['one', 'two', 'three', 'four'])\n",
    "print(data)\n",
    "#我们可以删除索引\n",
    "data2=data.drop(['Ohio','Colorado'])\n",
    "print(data2)\n",
    "#当然也可以删除对应的列,通过传递axis=1或axis='columns'可以删除列的值,下面两张方式效果是一样的\n",
    "data3=data.drop('two',axis=1)\n",
    "print(data3)\n",
    "data4=data.drop('two',axis='columns')\n",
    "print(data4)"
   ]
  },
  {
   "cell_type": "markdown",
   "metadata": {},
   "source": [
    "#### 用loc和iloc进行选取\n",
    "轴标签（loc）或整数索引（iloc），可以通过他们两个从DataFrame选择行和列的子集\n"
   ]
  },
  {
   "cell_type": "code",
   "execution_count": 56,
   "metadata": {},
   "outputs": [
    {
     "name": "stdout",
     "output_type": "stream",
     "text": [
      "    a   b   c   d\n",
      "1   0   1   2   3\n",
      "2   4   5   6   7\n",
      "3   8   9  10  11\n",
      "4  12  13  14  15\n",
      "b    1\n",
      "c    2\n",
      "Name: 1, dtype: int64\n",
      "1     0\n",
      "2     4\n",
      "3     8\n",
      "4    12\n",
      "Name: a, dtype: int64\n",
      "a    0\n",
      "b    1\n",
      "c    2\n",
      "d    3\n",
      "Name: 1, dtype: int64\n",
      "1     0\n",
      "2     4\n",
      "3     8\n",
      "4    12\n",
      "Name: a, dtype: int64\n",
      "   a  b  c  d\n",
      "1  0  1  2  3\n",
      "2  4  5  6  7\n",
      "a    4\n",
      "b    5\n",
      "c    6\n",
      "d    7\n",
      "Name: 2, dtype: int64\n",
      "b    1\n",
      "c    2\n",
      "Name: 1, dtype: int64\n",
      "   a  b   c   d\n",
      "2  4  5   6   7\n",
      "3  8  9  10  11\n",
      "    b   c\n",
      "1   1   2\n",
      "2   5   6\n",
      "3   9  10\n",
      "4  13  14\n",
      "4\n"
     ]
    }
   ],
   "source": [
    "import pandas as pd\n",
    "import numpy as np\n",
    "data = pd.DataFrame(np.arange(16).reshape(4,4),index=['1','2','3','4'],columns=['a','b','c','d'])\n",
    "print(data)\n",
    "# 我们要选取第1行第2列，第3列\n",
    "print(data.loc['1',['b','c']])\n",
    "print(data['a'])#只取第1列的数据\n",
    "print(data.loc['1'])#只取第一行\n",
    "print(data.loc[:,'a'])#只取第1列和data['a']作用一样\n",
    "print(data.loc[['1','2']])#要注意是双[],取的是两行第一行和第二行\n",
    "print(data.iloc[1])#只能取整数索引，从第0列开始算\n",
    "print(data.iloc[0,[1,2]])#通过整数位置，同时选取行和列\n",
    "print(data.iloc[[1,2]])#通过整数位置，从DataFrame选取单个行或行子集\n",
    "print(data.iloc[:,[1,2]])#通过整数位置，从DataFrame选取单个列或列子集\n",
    "print(data.at['2','a'])#通过行和列标签，选取单一的标量\n",
    "\n"
   ]
  },
  {
   "cell_type": "markdown",
   "metadata": {},
   "source": [
    "|类型|说明|\n",
    "|--|--|\n",
    "|df[val]|从DataFrame选取单列或一组列:在特殊情况下比较便利:布尔型数组(过滤行）、切片（行切片）、或布尔类型DataFrame(根据条件设置值)|\n",
    "|df.loc[val]|通过标签，选取DataFrame的单个行或一组行|\n",
    "|df.loc[:,val]|通过标签，选取单列或列子集|\n",
    "|df.loc[val1,val2]|通过标签，同时选取行和列|\n",
    "|df.iloc[where]|通过整数位置，从DataFrame选取单个行或行子集|\n",
    "|df.iloc[;,where]|通过整数位置，从DataFrame选取单个列或列子集|\n",
    "|df.iloc[where_i,where_j]|通过整数位置，同时选取行和列|\n",
    "|df.at[label_i,label_j]|通过行和列标签，选取单一的标量|\n"
   ]
  },
  {
   "cell_type": "markdown",
   "metadata": {},
   "source": [
    "#### 算术运算和数据对齐\n",
    "pandas最重要的一个功能是，它可以对不同索引的对象进行算术运算。在将对象相加时，如果存在不同的索引对，则结果的索引就是该索引对的并集。对于有数据库经验的用户，这就像在索引标签上进行自动外连接。看一个简单的例子："
   ]
  },
  {
   "cell_type": "code",
   "execution_count": 52,
   "metadata": {},
   "outputs": [
    {
     "name": "stdout",
     "output_type": "stream",
     "text": [
      "a    7.3\n",
      "b   -2.5\n",
      "c    3.4\n",
      "d    1.5\n",
      "dtype: float64\n",
      "a   -2.1\n",
      "b   -2.0\n",
      "c    3.2\n",
      "d    1.7\n",
      "dtype: float64\n",
      "a    5.2\n",
      "b   -4.5\n",
      "c    6.6\n",
      "d    3.2\n",
      "dtype: float64\n",
      "a    5.2\n",
      "b    NaN\n",
      "c    1.4\n",
      "d    4.7\n",
      "e    NaN\n",
      "dtype: float64\n"
     ]
    }
   ],
   "source": [
    "import pandas as pd\n",
    "\n",
    "s1 = pd.Series([7.3,-2.5,3.4,1.5],index=['a','b','c','d'])\n",
    "print(s1)\n",
    "s2 = pd.Series([-2.1,-2.0,3.2,1.7],index=['a','b','c','d'])\n",
    "print(s2)\n",
    "print(s1+s2)#会依照索引进行相加\n",
    "s3= pd.Series([-2.1,-2.0,3.2,1.7],index=['a','c','d','e'])\n",
    "print(s1+s3)#如果索引中的值为NaN，那么相加也会返回NaN"
   ]
  },
  {
   "cell_type": "markdown",
   "metadata": {},
   "source": [
    "对于DataFrame，对齐操作会同时发生在行和列上："
   ]
  },
  {
   "cell_type": "code",
   "execution_count": 54,
   "metadata": {},
   "outputs": [
    {
     "name": "stdout",
     "output_type": "stream",
     "text": [
      "            b    c    d\n",
      "Ohio      0.0  1.0  2.0\n",
      "Texas     3.0  4.0  5.0\n",
      "Colorado  6.0  7.0  8.0\n",
      "            b     d     e\n",
      "Utah      0.0   1.0   2.0\n",
      "Ohio      3.0   4.0   5.0\n",
      "Texas     6.0   7.0   8.0\n",
      "Colorado  9.0  10.0  11.0\n",
      "             b   c     d   e\n",
      "Colorado  15.0 NaN  18.0 NaN\n",
      "Ohio       3.0 NaN   6.0 NaN\n",
      "Texas      9.0 NaN  12.0 NaN\n",
      "Utah       NaN NaN   NaN NaN\n"
     ]
    }
   ],
   "source": [
    "import pandas as pd\n",
    "df1 = pd.DataFrame(np.arange(9.).reshape(3,3),columns=list('bcd'),index=['Ohio','Texas','Colorado'])\n",
    "print(df1)\n",
    "df2 = pd.DataFrame(np.arange(12.).reshape(4,3),columns=list('bde'),index=['Utah', 'Ohio','Texas','Colorado'])\n",
    "print(df2)\n",
    "print(df1+df2)\n"
   ]
  },
  {
   "cell_type": "markdown",
   "metadata": {},
   "source": [
    "当然也可以拿series和dataframe做算术运算，毕竟两者很类似。默认情况下，DataFrame和Series之间的算术运算会将Series的索引匹配到DataFrame的列，然后沿着行一直向下广播："
   ]
  },
  {
   "cell_type": "code",
   "execution_count": 58,
   "metadata": {},
   "outputs": [
    {
     "name": "stdout",
     "output_type": "stream",
     "text": [
      "a    7.3\n",
      "b   -2.5\n",
      "c    3.4\n",
      "d    1.5\n",
      "dtype: float64\n",
      "          b     d     e\n",
      "Utah    0.0   1.0   2.0\n",
      "Ohio    3.0   4.0   5.0\n",
      "Texas   6.0   7.0   8.0\n",
      "Oregon  9.0  10.0  11.0\n",
      "         a    b   c     d   e\n",
      "Utah   NaN -2.5 NaN   2.5 NaN\n",
      "Ohio   NaN  0.5 NaN   5.5 NaN\n",
      "Texas  NaN  3.5 NaN   8.5 NaN\n",
      "Oregon NaN  6.5 NaN  11.5 NaN\n"
     ]
    }
   ],
   "source": [
    "import pandas as pd\n",
    "s1 = pd.Series([7.3,-2.5,3.4,1.5],index=['a','b','c','d'])\n",
    "print(s1)\n",
    "s2 = pd.DataFrame(np.arange(12.).reshape((4, 3)),columns=list('bde'),index=['Utah', 'Ohio', 'Texas', 'Oregon'])\n",
    "print(s2)\n",
    "print(s1+s2)"
   ]
  },
  {
   "cell_type": "markdown",
   "metadata": {},
   "source": [
    "#### 在算术方法中填充值\n",
    "在对不同索引的对象进行算术运算时，你可能希望当一个对象中某个轴标签在另一个对象中找不到时填充一个特殊值（比如0）："
   ]
  },
  {
   "cell_type": "code",
   "execution_count": 65,
   "metadata": {},
   "outputs": [
    {
     "name": "stdout",
     "output_type": "stream",
     "text": [
      "      a     b     c     d     e\n",
      "0   0.0   1.0   2.0   3.0   4.0\n",
      "1   5.0   6.0   7.0   8.0   9.0\n",
      "2  10.0  11.0  12.0  13.0  14.0\n",
      "3  15.0  16.0  17.0  18.0  19.0\n",
      "      a     b     c     d     e\n",
      "0   0.0   1.0   2.0   3.0   4.0\n",
      "1   5.0   NaN   7.0   8.0   9.0\n",
      "2  10.0  11.0  12.0  13.0  14.0\n",
      "3  15.0  16.0  17.0  18.0  19.0\n",
      "     a    b     c     d\n",
      "0  0.0  1.0   2.0   3.0\n",
      "1  4.0  5.0   6.0   7.0\n",
      "2  8.0  9.0  10.0  11.0\n",
      "      a     b     c     d   e\n",
      "0   0.0   2.0   4.0   6.0 NaN\n",
      "1   9.0   NaN  13.0  15.0 NaN\n",
      "2  18.0  20.0  22.0  24.0 NaN\n",
      "3   NaN   NaN   NaN   NaN NaN\n",
      "      a     b     c     d     e\n",
      "0   0.0   2.0   4.0   6.0   4.0\n",
      "1   9.0   5.0  13.0  15.0   9.0\n",
      "2  18.0  20.0  22.0  24.0  14.0\n",
      "3  15.0  16.0  17.0  18.0  19.0\n",
      "      a     b     c     d     e\n",
      "0   0.0   0.0   0.0   0.0  -4.0\n",
      "1  -1.0   5.0  -1.0  -1.0  -9.0\n",
      "2  -2.0  -2.0  -2.0  -2.0 -14.0\n",
      "3 -15.0 -16.0 -17.0 -18.0 -19.0\n",
      "     a         b         c         d    e\n",
      "0  NaN  1.000000  1.000000  1.000000  0.0\n",
      "1  0.8       inf  0.857143  0.875000  0.0\n",
      "2  0.8  0.818182  0.833333  0.846154  0.0\n",
      "3  0.0  0.000000  0.000000  0.000000  0.0\n",
      "     a    b    c    d    e\n",
      "0  NaN  1.0  1.0  1.0  0.0\n",
      "1  0.0  inf  0.0  0.0  0.0\n",
      "2  0.0  0.0  0.0  0.0  0.0\n",
      "3  0.0  0.0  0.0  0.0  0.0\n",
      "      a     b      c      d    e\n",
      "0   0.0   1.0    4.0    9.0  0.0\n",
      "1  20.0   0.0   42.0   56.0  0.0\n",
      "2  80.0  99.0  120.0  143.0  0.0\n",
      "3   0.0   0.0    0.0    0.0  0.0\n",
      "              a             b             c             d    e\n",
      "0  1.000000e+00  1.000000e+00  4.000000e+00  2.700000e+01  0.0\n",
      "1  1.024000e+03  1.000000e+00  2.799360e+05  5.764801e+06  0.0\n",
      "2  1.073742e+09  3.138106e+10  1.000000e+12  3.452271e+13  0.0\n",
      "3  0.000000e+00  0.000000e+00  0.000000e+00  0.000000e+00  0.0\n"
     ]
    }
   ],
   "source": [
    "import pandas as pd\n",
    "import numpy as np\n",
    "df1 = pd.DataFrame(np.arange(12.).reshape((3, 4)),columns=list('abcd'))\n",
    "df2 = pd.DataFrame(np.arange(20.).reshape((4, 5)),columns=list('abcde'))\n",
    "print(df2)\n",
    "df2.loc[1,'b']=np.nan\n",
    "print(df2)\n",
    "#将它们相加时，没有重叠的位置就会产生NA值：\n",
    "print(df1)\n",
    "print(df1+df2)\n",
    "#使用df1的add方法，传入df2以及一个fill_value参数：\n",
    "print(df1.add(df2,fill_value=0))\n",
    "print(df1.sub(df2,fill_value=0))\n",
    "print(df1.div(df2,fill_value=0))\n",
    "print(df1.floordiv(df2,fill_value=0))\n",
    "print(df1.mul(df2,fill_value=0))\n",
    "print(df1.pow(df2,fill_value=0))"
   ]
  },
  {
   "cell_type": "markdown",
   "metadata": {},
   "source": [
    "以下是Series和DataFrame的算术方法\n",
    "|方法|说明|用法|\n",
    "|--|--|--|\n",
    "|add,radd|用于加法(+)的方法|df1.add(df2)或者df1.add(df2,fill_value=0)将NaN的填充为0|\n",
    "|sub,rsub|用于减法(-)的方法|df1.sub(df2)或者df1.sub(df2,fill_value=0)将NaN的填充为0|\n",
    "|div,rdiv|用于除法(/)的方法|df1.rdiv(df2)或者df1.rdiv(df2,fill_value=0)将NaN的填充为0|\n",
    "|floordiv,rfloordiv|用于底除(//)的方法|df1.floordiv(df2)或者df1.floordiv(df2,fill_value=0)将NaN的填充为0|\n",
    "|mul,rmul|用于乘法(*)的方法|df1.mul(df2)或者df1.mul(df2,fill_value=0)将NaN的填充为0|\n",
    "|pow,rpow|用于指数(**)的方法|df1.pow(df2)或者df1.pow(df2,fill_value=0)将NaN的填充为0|"
   ]
  },
  {
   "cell_type": "markdown",
   "metadata": {},
   "source": [
    "## 函数应用和映射\n",
    "NumPy的ufuncs（元素级数组方法）也可用于操作pandas对象，后面我们算数运算以及数据再加工都可以用到："
   ]
  },
  {
   "cell_type": "code",
   "execution_count": 75,
   "metadata": {},
   "outputs": [
    {
     "name": "stdout",
     "output_type": "stream",
     "text": [
      "               b         d         e\n",
      "Utah    0.177277  0.478391  0.300703\n",
      "Ohio    0.198568  0.248663 -0.646564\n",
      "Texas  -0.050653  1.121828 -0.571210\n",
      "Oregon -0.157193 -1.688991  0.630852\n",
      "               b         d         e\n",
      "Utah    0.177277  0.478391  0.300703\n",
      "Ohio    0.198568  0.248663  0.646564\n",
      "Texas   0.050653  1.121828  0.571210\n",
      "Oregon  0.157193  1.688991  0.630852\n",
      "b    0.355761\n",
      "d    2.810819\n",
      "e    1.277416\n",
      "dtype: float64\n",
      "Utah      0.301114\n",
      "Ohio      0.895227\n",
      "Texas     1.693038\n",
      "Oregon    2.319843\n",
      "dtype: float64\n",
      "            b         d         e\n",
      "min -0.157193 -1.688991 -0.646564\n",
      "max  0.198568  1.121828  0.630852\n",
      "            b      d      e\n",
      "Utah     0.18   0.48   0.30\n",
      "Ohio     0.20   0.25  -0.65\n",
      "Texas   -0.05   1.12  -0.57\n",
      "Oregon  -0.16  -1.69   0.63\n",
      "Utah       0.30\n",
      "Ohio      -0.65\n",
      "Texas     -0.57\n",
      "Oregon     0.63\n",
      "Name: e, dtype: object\n"
     ]
    },
    {
     "data": {
      "text/plain": [
       "Utah      0.318790\n",
       "Ohio     -0.066444\n",
       "Texas     0.166655\n",
       "Oregon   -0.405110\n",
       "dtype: float64"
      ]
     },
     "execution_count": 75,
     "metadata": {},
     "output_type": "execute_result"
    }
   ],
   "source": [
    "import pandas as pd #给pandas别名，更好的使用这个模块\n",
    "frame = pd.DataFrame(np.random.randn(4, 3), columns=list('bde'),index=['Utah', 'Ohio', 'Texas', 'Oregon'])\n",
    "print(frame)#打印下frame\n",
    "print(np.abs(frame))#打印frame的绝对值\n",
    "f = lambda x: x.max() - x.min() #做一个算术运算逻辑,匿名方法lambda\n",
    "print(frame.apply(f))\n",
    "#当然也可以指定行\n",
    "print(frame.apply(f, axis='columns'))\n",
    "#许多最为常见的数组统计功能都被实现成DataFrame的方法（如sum和mean），因此无需使用apply方法。\n",
    "#传递到apply的函数不是必须返回一个标量，还可以返回由多个值组成的Series：\n",
    "def f(x):\n",
    "    return pd.Series([x.min(), x.max()], index=['min', 'max'])\n",
    "print(frame.apply(f))\n",
    "#元素级的Python函数也是可以用的。假如你想得到frame中各个浮点值的格式化字符串，使用applymap即可：\n",
    "format = lambda x: '%.2f' % x\n",
    "print(frame.applymap(format))\n",
    "#之所以叫做applymap，是因为Series有一个用于应用元素级函数的map方法：\n",
    "print(frame['e'].map(format))"
   ]
  },
  {
   "cell_type": "markdown",
   "metadata": {},
   "source": [
    "## 汇总和排序方法\n",
    "当然除了这些运算外，像求最大值，求累计值，求排名和排序这些都会用到，我们就统一理一个表格来梳理下。\n",
    "### 排序方法"
   ]
  },
  {
   "cell_type": "code",
   "execution_count": 100,
   "metadata": {},
   "outputs": [
    {
     "name": "stdout",
     "output_type": "stream",
     "text": [
      "          b         e         d\n",
      "2 -0.500263  0.702904  2.335214\n",
      "3  3.252250  0.244196  0.171796\n",
      "1  0.469565 -0.963382 -1.516873\n",
      "4 -0.935815  0.306789  1.418025\n",
      "          b         e         d\n",
      "1  0.469565 -0.963382 -1.516873\n",
      "2 -0.500263  0.702904  2.335214\n",
      "3  3.252250  0.244196  0.171796\n",
      "4 -0.935815  0.306789  1.418025\n",
      "          b         d         e\n",
      "2 -0.500263  2.335214  0.702904\n",
      "3  3.252250  0.171796  0.244196\n",
      "1  0.469565 -1.516873 -0.963382\n",
      "4 -0.935815  1.418025  0.306789\n",
      "          e         d         b\n",
      "2  0.702904  2.335214 -0.500263\n",
      "3  0.244196  0.171796  3.252250\n",
      "1 -0.963382 -1.516873  0.469565\n",
      "4  0.306789  1.418025 -0.935815\n",
      "          b         e         d\n",
      "3  3.252250  0.244196  0.171796\n",
      "1  0.469565 -0.963382 -1.516873\n",
      "2 -0.500263  0.702904  2.335214\n",
      "4 -0.935815  0.306789  1.418025\n",
      "          b         e         d\n",
      "2 -0.500263  0.702904  2.335214\n",
      "4 -0.935815  0.306789  1.418025\n",
      "3  3.252250  0.244196  0.171796\n",
      "1  0.469565 -0.963382 -1.516873\n",
      "     b    e    d\n",
      "2  2.0  4.0  4.0\n",
      "3  4.0  2.0  2.0\n",
      "1  3.0  1.0  1.0\n",
      "4  1.0  3.0  3.0\n",
      "     b    e    d\n",
      "2  1.0  2.0  3.0\n",
      "3  3.0  2.0  1.0\n",
      "1  3.0  2.0  1.0\n",
      "4  1.0  2.0  3.0\n",
      "2   -0.500263\n",
      "3    0.171796\n",
      "1   -1.516873\n",
      "4   -0.935815\n",
      "dtype: float64\n"
     ]
    }
   ],
   "source": [
    "import pandas as pd #给pandas别名，更好的使用这个模块\n",
    "frame = pd.DataFrame(np.random.randn(4, 3), columns=list('bed'),index=['2', '3', '1', '4'])\n",
    "print(frame)#打印下frame\n",
    "print(frame.sort_index())#我们可以通过sort_index()来返回按照索引的排序\n",
    "print(frame.sort_index(axis=1))#之前有说到过axis=0为索引为行，axis=1为列\n",
    "print(frame.sort_index(axis=1,ascending=False))#当然我们也可以降序排序\n",
    "print(frame.sort_values(by='b',ascending=False))#也可以按照值来排序，比如我们有时希望按照表中哪个字段排序\n",
    "print(frame.sort_values(by=['d', 'b'],ascending=False))#也可以多个字段进行排序\n",
    "print(frame.rank(axis=0))#按行排序\n",
    "print(frame.rank(axis='columns'))#按列排序\n",
    "print(frame.min(axis='columns'))#按列排序，求出最小值\n"
   ]
  },
  {
   "cell_type": "code",
   "execution_count": 120,
   "metadata": {},
   "outputs": [
    {
     "name": "stdout",
     "output_type": "stream",
     "text": [
      "          b         e         d\n",
      "2 -0.194546  2.271235 -1.216932\n",
      "3 -1.058202  0.138722 -1.688732\n",
      "1 -1.035652 -1.011013  1.142144\n",
      "4  0.554035 -0.270207 -0.665943\n",
      "b   -1.734366\n",
      "e    1.128737\n",
      "d   -2.429464\n",
      "dtype: float64\n",
      "b    4\n",
      "e    4\n",
      "d    4\n",
      "dtype: int64\n",
      "b    4\n",
      "e    2\n",
      "d    1\n",
      "dtype: object\n",
      "          b         e         d\n",
      "2 -0.194546  2.271235 -1.216932\n",
      "3 -1.252749  2.409957 -2.905664\n",
      "1 -2.288401  1.398944 -1.763520\n",
      "4 -1.734366  1.128737 -2.429464\n",
      "2    0.286585\n",
      "3   -0.869404\n",
      "1   -0.301507\n",
      "4   -0.127372\n",
      "dtype: float64\n",
      "              b         e         d\n",
      "count  4.000000  4.000000  4.000000\n",
      "mean  -0.433591  0.282184 -0.607366\n",
      "std    0.771398  1.408829  1.238970\n",
      "min   -1.058202 -1.011013 -1.688732\n",
      "25%   -1.041290 -0.455408 -1.334882\n",
      "50%   -0.615099 -0.065742 -0.941438\n",
      "75%   -0.007401  0.671850 -0.213922\n",
      "max    0.554035  2.271235  1.142144\n"
     ]
    }
   ],
   "source": [
    "import pandas as pd #给pandas别名，更好的使用这个模块\n",
    "frame = pd.DataFrame(np.random.randn(4, 3), columns=list('bed'),index=['2', '3', '1', '4'])\n",
    "print(frame)#打印数据\n",
    "print(frame.sum())#打印汇总数据\n",
    "print(frame.count())#打印行数\n",
    "# #这样看行数都是4\n",
    "# #我们试着排除NA值看看\n",
    "# frame2 =frame[frame<1.2]\n",
    "# print(frame2)\n",
    "\n",
    "# print(frame2.count(skipna=True))#打印行数\n",
    "print(frame.idxmax())#求出每一列中最大的索引值\n",
    "print(frame.cumsum())#求出每一列的累计值\n",
    "print(frame.mean(axis='columns', skipna=False))#求平均数\n",
    "print(frame.describe())#描述一整个模型，如行数是多少，平均值是多少，分位数，最小值，最大值，标准差是多少"
   ]
  },
  {
   "cell_type": "markdown",
   "metadata": {},
   "source": [
    "|方法|说明|\n",
    "|--|--|\n",
    "|count|非NA值的数量|\n",
    "|describe|针对Series或各DataFrame列计算汇总统计|\n",
    "|min、max|计算最小值和最大值|\n",
    "|argmin、argmax|计算能够获取最小值和最大值的索引位置（整数）|\n",
    "|idxmin、idxmax|计算能够获取到最小值和最大值的索引值|\n",
    "|quantile|计算样本的分位数（0到1）|\n",
    "|sum|值的总和|\n",
    "|mean|值的平均数|\n",
    "|median|值的算数中位数（50%分位数）|\n",
    "|mad|根据平均值平均绝对离差|\n",
    "|var|样本值的方差|\n",
    "|std|样本值的标准差|\n",
    "|skew|样本值的偏度（三阶矩）|\n",
    "|kurt|样本值的偏度（四阶矩）|\n",
    "|cumsum|样本值的累计和|\n",
    "|cummin、cummax|样本值的累计最大值和累计最小值|\n",
    "|cumprod|样本值的累计积|\n",
    "|diff|计算一阶差分（对时间序列很有用）|\n",
    "|pct_change|计算本分数变化|"
   ]
  }
 ],
 "metadata": {
  "interpreter": {
   "hash": "034c70736e9d25f3f57bc70ec9a2164e1c27bdcdecfc656ea6098a86262350a2"
  },
  "kernelspec": {
   "display_name": "Python 3.9.12 ('myenv')",
   "language": "python",
   "name": "python3"
  },
  "language_info": {
   "codemirror_mode": {
    "name": "ipython",
    "version": 3
   },
   "file_extension": ".py",
   "mimetype": "text/x-python",
   "name": "python",
   "nbconvert_exporter": "python",
   "pygments_lexer": "ipython3",
   "version": "3.9.12"
  },
  "orig_nbformat": 4
 },
 "nbformat": 4,
 "nbformat_minor": 2
}
