{
 "cells": [
  {
   "cell_type": "markdown",
   "metadata": {},
   "source": [
    "# 数据分析"
   ]
  },
  {
   "cell_type": "markdown",
   "metadata": {},
   "source": [
    "经常有人说不会数据分析就没有未来，所以数据分析的作用性非常大，在拥有数据分析的工具使用的基础后如果还有数据分析的思维以及能力，那么我们的稀缺性会更高，毕竟在目前公司里编程语言开发使用者占大多数，但能在使用的基础之上还能做到对于数据的分析研究并挖掘，这是比较稀缺的。\n",
    "数据分析中用到的模块最多的就是numpy,pandas和matplotlib还有seaborn最后是re，接下来就一一讲解下其中的用法，以及对应的使用场景，毕竟要结合刻意思考，刻意练习还有以教代练。\n",
    "pandas经常和其它工具一同使用，如数值计算工具NumPy和SciPy，分析库statsmodels和scikit-learn，和数据可视化库matplotlib。pandas是基于NumPy数组构建的，特别是基于数组的函数和不使用for循环的数据处理。\n",
    "虽然pandas采用了大量的NumPy编码风格，但二者最大的不同是pandas是专门为处理表格和混杂数据设计的。而NumPy更适合处理统一的数值数组数据。\n",
    "## pandas\n",
    "数据分析中用到的模块最多的就是numpy,pandas和matplotlib还有seaborn最后是re，接下来就一一讲解下其中的用法，以及对应的使用场景，毕竟要结合刻意思考，刻意练习还有以教代练。\n",
    "pandas经常和其它工具一同使用，如数值计算工具NumPy和SciPy，分析库statsmodels和scikit-learn，和数据可视化库matplotlib。pandas是基于NumPy数组构建的，特别是基于数组的函数和不使用for循环的数据处理。\n",
    "虽然pandas采用了大量的NumPy编码风格，但二者最大的不同是pandas是专门为处理表格和混杂数据设计的。而NumPy更适合处理统一的数值数组数据。\n",
    "那么如何使用pandas呢？\n"
   ]
  },
  {
   "cell_type": "code",
   "execution_count": 2,
   "metadata": {},
   "outputs": [],
   "source": [
    "import pandas as pd #给pandas别名，更好的使用这个模块"
   ]
  },
  {
   "cell_type": "markdown",
   "metadata": {},
   "source": [
    "### pandas的数据结构应用\n",
    "#### Series\n",
    "Series是一种类似于数组的对象，类似于Numpy，它由索引和数据所构成\n",
    "比如以下例子："
   ]
  },
  {
   "cell_type": "code",
   "execution_count": 8,
   "metadata": {},
   "outputs": [
    {
     "name": "stdout",
     "output_type": "stream",
     "text": [
      "0    1\n",
      "1    2\n",
      "2    3\n",
      "3    4\n",
      "4    5\n",
      "5    6\n",
      "6    7\n",
      "7    8\n",
      "8    9\n",
      "dtype: int64\n",
      "[1 2 3 4 5 6 7 8 9]\n",
      "RangeIndex(start=0, stop=9, step=1)\n"
     ]
    }
   ],
   "source": [
    "import pandas as pd #给pandas别名，更好的使用这个模块\n",
    "obj = pd.Series(list(range(1,10)))\n",
    "print(obj)\n",
    "print(obj.values)\n",
    "print(obj.index)"
   ]
  },
  {
   "cell_type": "markdown",
   "metadata": {},
   "source": [
    "### 索引选取和过滤\n",
    "#### 索引和过滤"
   ]
  },
  {
   "cell_type": "code",
   "execution_count": 10,
   "metadata": {},
   "outputs": [
    {
     "name": "stdout",
     "output_type": "stream",
     "text": [
      "1     1\n",
      "3     2\n",
      "5     3\n",
      "7     4\n",
      "9     5\n",
      "11    6\n",
      "13    7\n",
      "15    8\n",
      "17    9\n",
      "dtype: int64\n",
      "[1 2 3 4 5 6 7 8 9]\n",
      "Int64Index([1, 3, 5, 7, 9, 11, 13, 15, 17], dtype='int64')\n",
      "2\n",
      "1    1\n",
      "3    2\n",
      "5    3\n",
      "dtype: int64\n",
      "1     1\n",
      "3     2\n",
      "5     3\n",
      "7     4\n",
      "9     5\n",
      "11    6\n",
      "13    7\n",
      "15    8\n",
      "17    9\n",
      "dtype: int64\n",
      "11    6\n",
      "13    7\n",
      "15    8\n",
      "17    9\n",
      "dtype: int64\n",
      "1     5\n",
      "3     5\n",
      "5     5\n",
      "7     4\n",
      "9     5\n",
      "11    6\n",
      "13    7\n",
      "15    8\n",
      "17    9\n",
      "dtype: int64\n",
      "          one  two  three  four\n",
      "Ohio        0    1      2     3\n",
      "Colorado    4    5      6     7\n",
      "Utah        8    9     10    11\n",
      "New York   12   13     14    15\n",
      "            one    two  three   four\n",
      "Ohio       True   True   True   True\n",
      "Colorado   True  False  False  False\n",
      "Utah      False  False  False  False\n",
      "New York  False  False  False  False\n",
      "          one  two  three  four\n",
      "Ohio        5    5      5     5\n",
      "Colorado    5    5      6     7\n",
      "Utah        8    9     10    11\n",
      "New York   12   13     14    15\n"
     ]
    }
   ],
   "source": [
    "import pandas as pd #给pandas别名，更好的使用这个模块\n",
    "obj2 = pd.Series(list(range(1,10)),index=list(range(1,19,2)))\n",
    "print(obj2)\n",
    "print(obj2.values)\n",
    "print(obj2.index)\n",
    "print(obj2[3])#也可以拿到单个或者多个的值\n",
    "print(obj2[[1,3,5]])#注意当中一定要有两次的[]，这样就能拿到对应的数据\n",
    "print(obj2[:10])#切片的话优先会对value进行切片，因此要注意，除非其中没有value值才会对索引进行过滤\n",
    "print(obj2[obj2>5])#跟上面切片一样的，也是可以通过判断筛选出对应的索引然后再选到对应的值\n",
    "obj2[1,3,5]=5 #这样对应的是索引\n",
    "print(obj2)\n",
    "4 in obj2 #这里又是指的index索引\n",
    "#再举个例子\n",
    "data = pd.DataFrame(np.arange(16).reshape((4, 4)),index=['Ohio', 'Colorado', 'Utah', 'New York'],columns=['one', 'two', 'three', 'four'])\n",
    "print(data)\n",
    "print(data<5)#可以判断是否<5\n",
    "#也可以通过选取<5的单元格进行值替换\n",
    "data[(data<5)]=5\n",
    "print(data)"
   ]
  },
  {
   "cell_type": "markdown",
   "metadata": {},
   "source": [
    "我们其实看上面例子可以看出来Series是带有索引的数组，那不是和字典类似吗？那我们是不是可以用来应用字典呢？答案是当然可以"
   ]
  },
  {
   "cell_type": "code",
   "execution_count": 27,
   "metadata": {},
   "outputs": [
    {
     "name": "stdout",
     "output_type": "stream",
     "text": [
      "mike       hello\n",
      "david         hi\n",
      "andy     welcome\n",
      "dtype: object\n",
      "david         hi\n",
      "mike       hello\n",
      "andy     welcome\n",
      "jack         NaN\n",
      "dtype: object\n",
      "david    False\n",
      "mike     False\n",
      "andy     False\n",
      "jack      True\n",
      "dtype: bool\n",
      "david    False\n",
      "mike     False\n",
      "andy     False\n",
      "jack      True\n",
      "dtype: bool\n"
     ]
    }
   ],
   "source": [
    "import pandas as pd #给pandas别名，更好的使用这个模块\n",
    "a_dictionary={'mike':'hello','david':'hi','andy':'welcome'}  \n",
    "obj3 = pd.Series(a_dictionary)\n",
    "print(obj3)\n",
    "#当然也可以改变字典的顺序比如\n",
    "obj4 = pd.Series(a_dictionary,index=['david','mike','andy','jack'])\n",
    "print(obj4)\n",
    "#我们发现当中有null值,可以通过isnull来判断\n",
    "print(pd.isnull(obj4))\n",
    "#也可以这样\n",
    "print(obj4.isnull())"
   ]
  },
  {
   "cell_type": "markdown",
   "metadata": {},
   "source": [
    "我们还可以对数据进行重新索引也可以进行填充，用method选项填充"
   ]
  },
  {
   "cell_type": "code",
   "execution_count": 9,
   "metadata": {},
   "outputs": [
    {
     "data": {
      "text/plain": [
       "0      blue\n",
       "1      blue\n",
       "2    purple\n",
       "3    purple\n",
       "4    yellow\n",
       "5    yellow\n",
       "dtype: object"
      ]
     },
     "execution_count": 9,
     "metadata": {},
     "output_type": "execute_result"
    }
   ],
   "source": [
    "obj3 = pd.Series(['blue', 'purple', 'yellow'], index=[0, 2, 4])\n",
    "obj3\n",
    "obj3.reindex(range(6))#这样数据就会有部分为NaN\n",
    "obj3.reindex(range(6),method='ffill')#可以进行填充"
   ]
  },
  {
   "cell_type": "markdown",
   "metadata": {},
   "source": [
    "## DataFrame\n",
    "DataFrame为表格型的数据结构。"
   ]
  },
  {
   "cell_type": "code",
   "execution_count": 6,
   "metadata": {},
   "outputs": [
    {
     "name": "stdout",
     "output_type": "stream",
     "text": [
      "    state  year  pop\n",
      "0    Ohio  2000  1.5\n",
      "1    Ohio  2001  1.7\n",
      "2    Ohio  2002  3.6\n",
      "3  Nevada  2001  2.4\n",
      "4  Nevada  2002  2.9\n",
      "5  Nevada  2003  3.2\n",
      "    state  year  pop\n",
      "0    Ohio  2000  1.5\n",
      "1    Ohio  2001  1.7\n",
      "2    Ohio  2002  3.6\n",
      "3  Nevada  2001  2.4\n",
      "4  Nevada  2002  2.9\n"
     ]
    }
   ],
   "source": [
    "import pandas as pd\n",
    "data = {'state': ['Ohio', 'Ohio', 'Ohio', 'Nevada', 'Nevada', 'Nevada'],\n",
    "        'year': [2000, 2001, 2002, 2001, 2002, 2003],\n",
    "        'pop': [1.5, 1.7, 3.6, 2.4, 2.9, 3.2]}\n",
    "frame = pd.DataFrame(data)\n",
    "print(frame)\n",
    "print(frame.head())"
   ]
  },
  {
   "cell_type": "markdown",
   "metadata": {},
   "source": [
    "当然也可以指定列的顺序"
   ]
  },
  {
   "cell_type": "code",
   "execution_count": 8,
   "metadata": {},
   "outputs": [
    {
     "data": {
      "text/html": [
       "<div>\n",
       "<style scoped>\n",
       "    .dataframe tbody tr th:only-of-type {\n",
       "        vertical-align: middle;\n",
       "    }\n",
       "\n",
       "    .dataframe tbody tr th {\n",
       "        vertical-align: top;\n",
       "    }\n",
       "\n",
       "    .dataframe thead th {\n",
       "        text-align: right;\n",
       "    }\n",
       "</style>\n",
       "<table border=\"1\" class=\"dataframe\">\n",
       "  <thead>\n",
       "    <tr style=\"text-align: right;\">\n",
       "      <th></th>\n",
       "      <th>pop</th>\n",
       "      <th>year</th>\n",
       "      <th>state</th>\n",
       "    </tr>\n",
       "  </thead>\n",
       "  <tbody>\n",
       "    <tr>\n",
       "      <th>0</th>\n",
       "      <td>1.5</td>\n",
       "      <td>2000</td>\n",
       "      <td>Ohio</td>\n",
       "    </tr>\n",
       "    <tr>\n",
       "      <th>1</th>\n",
       "      <td>1.7</td>\n",
       "      <td>2001</td>\n",
       "      <td>Ohio</td>\n",
       "    </tr>\n",
       "    <tr>\n",
       "      <th>2</th>\n",
       "      <td>3.6</td>\n",
       "      <td>2002</td>\n",
       "      <td>Ohio</td>\n",
       "    </tr>\n",
       "    <tr>\n",
       "      <th>3</th>\n",
       "      <td>2.4</td>\n",
       "      <td>2001</td>\n",
       "      <td>Nevada</td>\n",
       "    </tr>\n",
       "    <tr>\n",
       "      <th>4</th>\n",
       "      <td>2.9</td>\n",
       "      <td>2002</td>\n",
       "      <td>Nevada</td>\n",
       "    </tr>\n",
       "    <tr>\n",
       "      <th>5</th>\n",
       "      <td>3.2</td>\n",
       "      <td>2003</td>\n",
       "      <td>Nevada</td>\n",
       "    </tr>\n",
       "  </tbody>\n",
       "</table>\n",
       "</div>"
      ],
      "text/plain": [
       "   pop  year   state\n",
       "0  1.5  2000    Ohio\n",
       "1  1.7  2001    Ohio\n",
       "2  3.6  2002    Ohio\n",
       "3  2.4  2001  Nevada\n",
       "4  2.9  2002  Nevada\n",
       "5  3.2  2003  Nevada"
      ]
     },
     "execution_count": 8,
     "metadata": {},
     "output_type": "execute_result"
    }
   ],
   "source": [
    "pd.DataFrame(data,columns=['pop','year','state'])"
   ]
  },
  {
   "cell_type": "markdown",
   "metadata": {},
   "source": [
    "当然也可以在原来的数据中再加一列"
   ]
  },
  {
   "cell_type": "code",
   "execution_count": 16,
   "metadata": {},
   "outputs": [
    {
     "name": "stdout",
     "output_type": "stream",
     "text": [
      "   pop  year   state debt\n",
      "0  1.5  2000    Ohio  NaN\n",
      "1  1.7  2001    Ohio  NaN\n",
      "2  3.6  2002    Ohio  NaN\n",
      "3  2.4  2001  Nevada  NaN\n",
      "4  2.9  2002  Nevada  NaN\n",
      "5  3.2  2003  Nevada  NaN\n",
      "   pop  year   state debt\n",
      "1  1.5  2000    Ohio  NaN\n",
      "2  1.7  2001    Ohio  NaN\n",
      "3  3.6  2002    Ohio  NaN\n",
      "4  2.4  2001  Nevada  NaN\n",
      "5  2.9  2002  Nevada  NaN\n",
      "6  3.2  2003  Nevada  NaN\n"
     ]
    }
   ],
   "source": [
    "data2=pd.DataFrame(data,columns=['pop','year','state','debt'])\n",
    "print(data2)\n",
    "data2=pd.DataFrame(data,columns=['pop','year','state','debt'],index=list(range(1,7)))\n",
    "print(data2)"
   ]
  },
  {
   "cell_type": "markdown",
   "metadata": {},
   "source": [
    "当然可以给null的值赋值"
   ]
  },
  {
   "cell_type": "code",
   "execution_count": 25,
   "metadata": {},
   "outputs": [
    {
     "name": "stdout",
     "output_type": "stream",
     "text": [
      "   pop  year   state  debt\n",
      "1  1.5  2000    Ohio     1\n",
      "2  1.7  2001    Ohio     2\n",
      "3  3.6  2002    Ohio     3\n",
      "4  2.4  2001  Nevada     4\n",
      "5  2.9  2002  Nevada     5\n",
      "6  3.2  2003  Nevada     6\n",
      "1    1\n",
      "2    2\n",
      "3    3\n",
      "4    4\n",
      "5    5\n",
      "6    6\n",
      "Name: debt, dtype: int64\n",
      "1    1\n",
      "2    2\n",
      "3    3\n",
      "4    4\n",
      "5    5\n",
      "6    6\n",
      "Name: debt, dtype: int64\n"
     ]
    },
    {
     "name": "stderr",
     "output_type": "stream",
     "text": [
      "/var/folders/0n/6mryfm8x06gfzddk4dympfg80000gn/T/ipykernel_36999/681092870.py:2: SettingWithCopyWarning: \n",
      "A value is trying to be set on a copy of a slice from a DataFrame\n",
      "\n",
      "See the caveats in the documentation: https://pandas.pydata.org/pandas-docs/stable/user_guide/indexing.html#returning-a-view-versus-a-copy\n",
      "  data2['debt'][i]=i\n"
     ]
    }
   ],
   "source": [
    "for i in range(1,7):\n",
    "    data2['debt'][i]=i\n",
    "print(data2)\n",
    "print(data2['debt'])\n",
    "print(data2.debt)#这两种方式都是一样的"
   ]
  },
  {
   "cell_type": "markdown",
   "metadata": {},
   "source": [
    "当然也可以添加一个计算列，比如根据判断state是否是'Ohio',如果是就返回True，如果不是就返回False"
   ]
  },
  {
   "cell_type": "code",
   "execution_count": 6,
   "metadata": {},
   "outputs": [
    {
     "data": {
      "text/html": [
       "<div>\n",
       "<style scoped>\n",
       "    .dataframe tbody tr th:only-of-type {\n",
       "        vertical-align: middle;\n",
       "    }\n",
       "\n",
       "    .dataframe tbody tr th {\n",
       "        vertical-align: top;\n",
       "    }\n",
       "\n",
       "    .dataframe thead th {\n",
       "        text-align: right;\n",
       "    }\n",
       "</style>\n",
       "<table border=\"1\" class=\"dataframe\">\n",
       "  <thead>\n",
       "    <tr style=\"text-align: right;\">\n",
       "      <th></th>\n",
       "      <th>pop</th>\n",
       "      <th>year</th>\n",
       "      <th>state</th>\n",
       "      <th>debt</th>\n",
       "      <th>exp</th>\n",
       "    </tr>\n",
       "  </thead>\n",
       "  <tbody>\n",
       "    <tr>\n",
       "      <th>0</th>\n",
       "      <td>1.5</td>\n",
       "      <td>2000</td>\n",
       "      <td>Ohio</td>\n",
       "      <td>NaN</td>\n",
       "      <td>True</td>\n",
       "    </tr>\n",
       "    <tr>\n",
       "      <th>1</th>\n",
       "      <td>1.7</td>\n",
       "      <td>2001</td>\n",
       "      <td>Ohio</td>\n",
       "      <td>NaN</td>\n",
       "      <td>True</td>\n",
       "    </tr>\n",
       "    <tr>\n",
       "      <th>2</th>\n",
       "      <td>3.6</td>\n",
       "      <td>2002</td>\n",
       "      <td>Ohio</td>\n",
       "      <td>NaN</td>\n",
       "      <td>True</td>\n",
       "    </tr>\n",
       "    <tr>\n",
       "      <th>3</th>\n",
       "      <td>2.4</td>\n",
       "      <td>2001</td>\n",
       "      <td>Nevada</td>\n",
       "      <td>NaN</td>\n",
       "      <td>False</td>\n",
       "    </tr>\n",
       "    <tr>\n",
       "      <th>4</th>\n",
       "      <td>2.9</td>\n",
       "      <td>2002</td>\n",
       "      <td>Nevada</td>\n",
       "      <td>NaN</td>\n",
       "      <td>False</td>\n",
       "    </tr>\n",
       "    <tr>\n",
       "      <th>5</th>\n",
       "      <td>3.2</td>\n",
       "      <td>2003</td>\n",
       "      <td>Nevada</td>\n",
       "      <td>NaN</td>\n",
       "      <td>False</td>\n",
       "    </tr>\n",
       "  </tbody>\n",
       "</table>\n",
       "</div>"
      ],
      "text/plain": [
       "   pop  year   state debt    exp\n",
       "0  1.5  2000    Ohio  NaN   True\n",
       "1  1.7  2001    Ohio  NaN   True\n",
       "2  3.6  2002    Ohio  NaN   True\n",
       "3  2.4  2001  Nevada  NaN  False\n",
       "4  2.9  2002  Nevada  NaN  False\n",
       "5  3.2  2003  Nevada  NaN  False"
      ]
     },
     "execution_count": 6,
     "metadata": {},
     "output_type": "execute_result"
    }
   ],
   "source": [
    "import pandas as pd\n",
    "data = {'state': ['Ohio', 'Ohio', 'Ohio', 'Nevada', 'Nevada', 'Nevada'],\n",
    "        'year': [2000, 2001, 2002, 2001, 2002, 2003],\n",
    "        'pop': [1.5, 1.7, 3.6, 2.4, 2.9, 3.2]}\n",
    "data2=pd.DataFrame(data,columns=['pop','year','state','debt'])\n",
    "\n",
    "data2['exp']=data2.state == 'Ohio'\n",
    "data2\n"
   ]
  },
  {
   "cell_type": "code",
   "execution_count": null,
   "metadata": {},
   "outputs": [],
   "source": [
    "也可以用del方法来删除某一列"
   ]
  },
  {
   "cell_type": "code",
   "execution_count": 7,
   "metadata": {},
   "outputs": [
    {
     "data": {
      "text/html": [
       "<div>\n",
       "<style scoped>\n",
       "    .dataframe tbody tr th:only-of-type {\n",
       "        vertical-align: middle;\n",
       "    }\n",
       "\n",
       "    .dataframe tbody tr th {\n",
       "        vertical-align: top;\n",
       "    }\n",
       "\n",
       "    .dataframe thead th {\n",
       "        text-align: right;\n",
       "    }\n",
       "</style>\n",
       "<table border=\"1\" class=\"dataframe\">\n",
       "  <thead>\n",
       "    <tr style=\"text-align: right;\">\n",
       "      <th></th>\n",
       "      <th>pop</th>\n",
       "      <th>year</th>\n",
       "      <th>state</th>\n",
       "      <th>debt</th>\n",
       "    </tr>\n",
       "  </thead>\n",
       "  <tbody>\n",
       "    <tr>\n",
       "      <th>0</th>\n",
       "      <td>1.5</td>\n",
       "      <td>2000</td>\n",
       "      <td>Ohio</td>\n",
       "      <td>NaN</td>\n",
       "    </tr>\n",
       "    <tr>\n",
       "      <th>1</th>\n",
       "      <td>1.7</td>\n",
       "      <td>2001</td>\n",
       "      <td>Ohio</td>\n",
       "      <td>NaN</td>\n",
       "    </tr>\n",
       "    <tr>\n",
       "      <th>2</th>\n",
       "      <td>3.6</td>\n",
       "      <td>2002</td>\n",
       "      <td>Ohio</td>\n",
       "      <td>NaN</td>\n",
       "    </tr>\n",
       "    <tr>\n",
       "      <th>3</th>\n",
       "      <td>2.4</td>\n",
       "      <td>2001</td>\n",
       "      <td>Nevada</td>\n",
       "      <td>NaN</td>\n",
       "    </tr>\n",
       "    <tr>\n",
       "      <th>4</th>\n",
       "      <td>2.9</td>\n",
       "      <td>2002</td>\n",
       "      <td>Nevada</td>\n",
       "      <td>NaN</td>\n",
       "    </tr>\n",
       "    <tr>\n",
       "      <th>5</th>\n",
       "      <td>3.2</td>\n",
       "      <td>2003</td>\n",
       "      <td>Nevada</td>\n",
       "      <td>NaN</td>\n",
       "    </tr>\n",
       "  </tbody>\n",
       "</table>\n",
       "</div>"
      ],
      "text/plain": [
       "   pop  year   state debt\n",
       "0  1.5  2000    Ohio  NaN\n",
       "1  1.7  2001    Ohio  NaN\n",
       "2  3.6  2002    Ohio  NaN\n",
       "3  2.4  2001  Nevada  NaN\n",
       "4  2.9  2002  Nevada  NaN\n",
       "5  3.2  2003  Nevada  NaN"
      ]
     },
     "execution_count": 7,
     "metadata": {},
     "output_type": "execute_result"
    }
   ],
   "source": [
    "del data2['exp']\n",
    "data2\n"
   ]
  },
  {
   "cell_type": "markdown",
   "metadata": {},
   "source": [
    "当然我们还可以对数据进行转置，类似excel的转置"
   ]
  },
  {
   "cell_type": "code",
   "execution_count": 8,
   "metadata": {},
   "outputs": [],
   "source": [
    "data3=data2.T\n"
   ]
  },
  {
   "cell_type": "markdown",
   "metadata": {},
   "source": [
    "我们也可以对DataFrame的数据进行重新索引"
   ]
  },
  {
   "cell_type": "code",
   "execution_count": 9,
   "metadata": {},
   "outputs": [
    {
     "name": "stdout",
     "output_type": "stream",
     "text": [
      "   pop    year   state debt\n",
      "0  1.5  2000.0    Ohio  NaN\n",
      "1  1.7  2001.0    Ohio  NaN\n",
      "2  3.6  2002.0    Ohio  NaN\n",
      "3  2.4  2001.0  Nevada  NaN\n",
      "4  2.9  2002.0  Nevada  NaN\n",
      "5  3.2  2003.0  Nevada  NaN\n",
      "6  NaN     NaN     NaN  NaN\n",
      "7  NaN     NaN     NaN  NaN\n",
      "   year   state debt  pop  exp\n",
      "0  2000    Ohio  NaN  1.5  NaN\n",
      "1  2001    Ohio  NaN  1.7  NaN\n",
      "2  2002    Ohio  NaN  3.6  NaN\n",
      "3  2001  Nevada  NaN  2.4  NaN\n",
      "4  2002  Nevada  NaN  2.9  NaN\n",
      "5  2003  Nevada  NaN  3.2  NaN\n",
      "[[2000 'Ohio' nan 1.5 nan]\n",
      " [2001 'Ohio' nan 1.7 nan]\n",
      " [2002 'Ohio' nan 3.6 nan]\n",
      " [2001 'Nevada' nan 2.4 nan]\n",
      " [2002 'Nevada' nan 2.9 nan]\n",
      " [2003 'Nevada' nan 3.2 nan]]\n"
     ]
    }
   ],
   "source": [
    "data4=data2.reindex(range(8))#这样数据就会有部分为NaN\n",
    "print(data4)\n",
    "data5=data2.reindex(columns=['year','state','debt','pop','exp'])#也可以对列进行索引\n",
    "print(data5)"
   ]
  },
  {
   "cell_type": "markdown",
   "metadata": {},
   "source": [
    "#### 丢弃制定轴上的项\n",
    "我们可以对数据对象的某一列的数据进行丢弃，比如以下例子："
   ]
  },
  {
   "cell_type": "code",
   "execution_count": 5,
   "metadata": {},
   "outputs": [
    {
     "name": "stdout",
     "output_type": "stream",
     "text": [
      "a    0.0\n",
      "b    1.0\n",
      "c    2.0\n",
      "d    3.0\n",
      "e    4.0\n",
      "dtype: float64\n",
      "a    0.0\n",
      "b    1.0\n",
      "c    2.0\n",
      "d    3.0\n",
      "e    4.0\n",
      "dtype: float64\n",
      "a    0.0\n",
      "b    1.0\n",
      "d    3.0\n",
      "e    4.0\n",
      "dtype: float64\n",
      "a    0.0\n",
      "b    1.0\n",
      "dtype: float64\n",
      "          one  two  three  four\n",
      "Ohio        0    1      2     3\n",
      "Colorado    4    5      6     7\n",
      "Utah        8    9     10    11\n",
      "New York   12   13     14    15\n",
      "          one  two  three  four\n",
      "Utah        8    9     10    11\n",
      "New York   12   13     14    15\n",
      "          one  three  four\n",
      "Ohio        0      2     3\n",
      "Colorado    4      6     7\n",
      "Utah        8     10    11\n",
      "New York   12     14    15\n",
      "          one  three  four\n",
      "Ohio        0      2     3\n",
      "Colorado    4      6     7\n",
      "Utah        8     10    11\n",
      "New York   12     14    15\n"
     ]
    }
   ],
   "source": [
    "import pandas as pd\n",
    "import numpy as np\n",
    "obj = pd.Series(np.arange(5.), index=['a', 'b', 'c', 'd', 'e'])\n",
    "print(obj)\n",
    "obj.drop('c')#可以对某一列进行丢弃对其本身不会做任何修改\n",
    "print(obj)\n",
    "obj.drop('c',inplace=True)#可以对某一列进行丢弃对其本身会做任何修改，小心使用inplace，它会销毁所有被删除的数据。\n",
    "print(obj)\n",
    "#当然也可以对对象多个列进行操作\n",
    "obj2=obj.drop(['e','d'])\n",
    "print(obj2)\n",
    "#再举个例子,DataFrame的例子\n",
    "data=pd.DataFrame(np.arange(16).reshape(4,4),index=['Ohio', 'Colorado', 'Utah', 'New York'],columns=['one', 'two', 'three', 'four'])\n",
    "print(data)\n",
    "#我们可以删除索引\n",
    "data2=data.drop(['Ohio','Colorado'])\n",
    "print(data2)\n",
    "#当然也可以删除对应的列,通过传递axis=1或axis='columns'可以删除列的值,下面两张方式效果是一样的\n",
    "data3=data.drop('two',axis=1)\n",
    "print(data3)\n",
    "data4=data.drop('two',axis='columns')\n",
    "print(data4)"
   ]
  },
  {
   "cell_type": "markdown",
   "metadata": {},
   "source": [
    "#### 用loc和iloc进行选取\n",
    "轴标签（loc）或整数索引（iloc），可以通过他们两个从DataFrame选择行和列的子集\n"
   ]
  },
  {
   "cell_type": "code",
   "execution_count": 23,
   "metadata": {},
   "outputs": [
    {
     "name": "stdout",
     "output_type": "stream",
     "text": [
      "    a   b   c   d\n",
      "1   0   1   2   3\n",
      "2   4   5   6   7\n",
      "3   8   9  10  11\n",
      "4  12  13  14  15\n",
      "b    1\n",
      "c    2\n",
      "Name: 1, dtype: int64\n",
      "b    1\n",
      "c    2\n",
      "Name: 1, dtype: int64\n"
     ]
    }
   ],
   "source": [
    "import pandas as pd\n",
    "import numpy as np\n",
    "data = pd.DataFrame(np.arange(16).reshape(4,4),index=['1','2','3','4'],columns=['a','b','c','d'])\n",
    "print(data)\n",
    "#我们要选取第1行第2列，第3列\n",
    "print(data.loc['1',['b','c']])\n",
    "#当然可以用iloc整数索引来选取,数据要从第0行或者第0列开始算\n",
    "print(data.iloc[0,[1,2]])"
   ]
  },
  {
   "cell_type": "markdown",
   "metadata": {},
   "source": [
    "## Numpy\n",
    "Numpy是带一组索引的数组，我们可以对其进行加工运算。类似于Series。"
   ]
  },
  {
   "cell_type": "code",
   "execution_count": 4,
   "metadata": {},
   "outputs": [
    {
     "name": "stdout",
     "output_type": "stream",
     "text": [
      "0    1\n",
      "1    2\n",
      "2    3\n",
      "3    4\n",
      "4    5\n",
      "5    6\n",
      "6    7\n",
      "7    8\n",
      "8    9\n",
      "dtype: int64\n",
      "3    4\n",
      "4    5\n",
      "5    6\n",
      "6    7\n",
      "7    8\n",
      "8    9\n",
      "dtype: int64\n",
      "0     2\n",
      "1     4\n",
      "2     6\n",
      "3     8\n",
      "4    10\n",
      "5    12\n",
      "6    14\n",
      "7    16\n",
      "8    18\n",
      "dtype: int64\n"
     ]
    },
    {
     "data": {
      "text/plain": [
       "0       2.718282\n",
       "1       7.389056\n",
       "2      20.085537\n",
       "3      54.598150\n",
       "4     148.413159\n",
       "5     403.428793\n",
       "6    1096.633158\n",
       "7    2980.957987\n",
       "8    8103.083928\n",
       "dtype: float64"
      ]
     },
     "execution_count": 4,
     "metadata": {},
     "output_type": "execute_result"
    }
   ],
   "source": [
    "import pandas as pd #给pandas别名，更好的使用这个模块\n",
    "import numpy as np\n",
    "obj = pd.Series(list(range(1,10)))\n",
    "print(obj)\n",
    "print(obj[obj>3])#筛选出大于3的数组\n",
    "print(obj*2)#将数组中的值全*2\n",
    "np.exp(obj)"
   ]
  }
 ],
 "metadata": {
  "interpreter": {
   "hash": "034c70736e9d25f3f57bc70ec9a2164e1c27bdcdecfc656ea6098a86262350a2"
  },
  "kernelspec": {
   "display_name": "Python 3.9.12 ('myenv')",
   "language": "python",
   "name": "python3"
  },
  "language_info": {
   "codemirror_mode": {
    "name": "ipython",
    "version": 3
   },
   "file_extension": ".py",
   "mimetype": "text/x-python",
   "name": "python",
   "nbconvert_exporter": "python",
   "pygments_lexer": "ipython3",
   "version": "3.9.12"
  },
  "orig_nbformat": 4
 },
 "nbformat": 4,
 "nbformat_minor": 2
}
