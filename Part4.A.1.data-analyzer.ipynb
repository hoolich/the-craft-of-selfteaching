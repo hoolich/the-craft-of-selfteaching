{
 "cells": [
  {
   "cell_type": "markdown",
   "metadata": {},
   "source": [
    "# 数据分析"
   ]
  },
  {
   "cell_type": "markdown",
   "metadata": {},
   "source": [
    "经常有人说不会数据分析就没有未来，所以数据分析的作用性非常大，在拥有数据分析的工具使用的基础后如果还有数据分析的思维以及能力，那么我们的稀缺性会更高，毕竟在目前公司里编程语言开发使用者占大多数，但能在使用的基础之上还能做到对于数据的分析研究并挖掘，这是比较稀缺的。\n",
    "数据分析中用到的模块最多的就是numpy,pandas和matplotlib还有seaborn最后是re，接下来就一一讲解下其中的用法，以及对应的使用场景，毕竟要结合刻意思考，刻意练习还有以教代练。\n",
    "pandas经常和其它工具一同使用，如数值计算工具NumPy和SciPy，分析库statsmodels和scikit-learn，和数据可视化库matplotlib。pandas是基于NumPy数组构建的，特别是基于数组的函数和不使用for循环的数据处理。\n",
    "虽然pandas采用了大量的NumPy编码风格，但二者最大的不同是pandas是专门为处理表格和混杂数据设计的。而NumPy更适合处理统一的数值数组数据。\n",
    "## pandas\n",
    "数据分析中用到的模块最多的就是numpy,pandas和matplotlib还有seaborn最后是re，接下来就一一讲解下其中的用法，以及对应的使用场景，毕竟要结合刻意思考，刻意练习还有以教代练。\n",
    "pandas经常和其它工具一同使用，如数值计算工具NumPy和SciPy，分析库statsmodels和scikit-learn，和数据可视化库matplotlib。pandas是基于NumPy数组构建的，特别是基于数组的函数和不使用for循环的数据处理。\n",
    "虽然pandas采用了大量的NumPy编码风格，但二者最大的不同是pandas是专门为处理表格和混杂数据设计的。而NumPy更适合处理统一的数值数组数据。\n",
    "那么如何使用pandas呢？\n"
   ]
  },
  {
   "cell_type": "code",
   "execution_count": 2,
   "metadata": {},
   "outputs": [],
   "source": [
    "import pandas as pd #给pandas别名，更好的使用这个模块"
   ]
  },
  {
   "cell_type": "markdown",
   "metadata": {},
   "source": [
    "### pandas的数据结构应用\n",
    "#### Series\n",
    "Series是一种类似于数组的对象，类似于Numpy，它由索引和数据所构成\n",
    "比如以下例子："
   ]
  },
  {
   "cell_type": "code",
   "execution_count": 8,
   "metadata": {},
   "outputs": [
    {
     "name": "stdout",
     "output_type": "stream",
     "text": [
      "0    1\n",
      "1    2\n",
      "2    3\n",
      "3    4\n",
      "4    5\n",
      "5    6\n",
      "6    7\n",
      "7    8\n",
      "8    9\n",
      "dtype: int64\n",
      "[1 2 3 4 5 6 7 8 9]\n",
      "RangeIndex(start=0, stop=9, step=1)\n"
     ]
    }
   ],
   "source": [
    "import pandas as pd #给pandas别名，更好的使用这个模块\n",
    "obj = pd.Series(list(range(1,10)))\n",
    "print(obj)\n",
    "print(obj.values)\n",
    "print(obj.index)"
   ]
  },
  {
   "cell_type": "markdown",
   "metadata": {},
   "source": [
    "当然我们也可以修改他们的索引，比如"
   ]
  },
  {
   "cell_type": "code",
   "execution_count": 21,
   "metadata": {},
   "outputs": [
    {
     "name": "stdout",
     "output_type": "stream",
     "text": [
      "1     1\n",
      "3     2\n",
      "5     3\n",
      "7     4\n",
      "9     5\n",
      "11    6\n",
      "13    7\n",
      "15    8\n",
      "17    9\n",
      "dtype: int64\n",
      "[1 2 3 4 5 6 7 8 9]\n",
      "Int64Index([1, 3, 5, 7, 9, 11, 13, 15, 17], dtype='int64')\n",
      "2\n",
      "1    1\n",
      "3    2\n",
      "5    3\n",
      "dtype: int64\n",
      "1     1\n",
      "3     2\n",
      "5     3\n",
      "7     4\n",
      "9     5\n",
      "11    6\n",
      "13    7\n",
      "15    8\n",
      "17    9\n",
      "dtype: int64\n",
      "11    6\n",
      "13    7\n",
      "15    8\n",
      "17    9\n",
      "dtype: int64\n"
     ]
    },
    {
     "data": {
      "text/plain": [
       "False"
      ]
     },
     "execution_count": 21,
     "metadata": {},
     "output_type": "execute_result"
    }
   ],
   "source": [
    "import pandas as pd #给pandas别名，更好的使用这个模块\n",
    "obj2 = pd.Series(list(range(1,10)),index=list(range(1,19,2)))\n",
    "print(obj2)\n",
    "print(obj2.values)\n",
    "print(obj2.index)\n",
    "print(obj2[3])#也可以拿到单个或者多个的值\n",
    "print(obj2[[1,3,5]])#注意当中一定要有两次的[]\n",
    "print(obj2[:10])#切片的话只会对value进行切片，因此要注意\n",
    "print(obj2[obj2>5])#跟上面切片一样的，也是可以通过判断筛选出值\n",
    "4 in obj2 #这里又是指的index索引"
   ]
  },
  {
   "cell_type": "markdown",
   "metadata": {},
   "source": [
    "我们其实看上面例子可以看出来Series是带有索引的数组，那不是和字典类似吗？那我们是不是可以用来应用字典呢？答案是当然可以"
   ]
  },
  {
   "cell_type": "code",
   "execution_count": 27,
   "metadata": {},
   "outputs": [
    {
     "name": "stdout",
     "output_type": "stream",
     "text": [
      "mike       hello\n",
      "david         hi\n",
      "andy     welcome\n",
      "dtype: object\n",
      "david         hi\n",
      "mike       hello\n",
      "andy     welcome\n",
      "jack         NaN\n",
      "dtype: object\n",
      "david    False\n",
      "mike     False\n",
      "andy     False\n",
      "jack      True\n",
      "dtype: bool\n",
      "david    False\n",
      "mike     False\n",
      "andy     False\n",
      "jack      True\n",
      "dtype: bool\n"
     ]
    }
   ],
   "source": [
    "import pandas as pd #给pandas别名，更好的使用这个模块\n",
    "a_dictionary={'mike':'hello','david':'hi','andy':'welcome'}  \n",
    "obj3 = pd.Series(a_dictionary)\n",
    "print(obj3)\n",
    "#当然也可以改变字典的顺序比如\n",
    "obj4 = pd.Series(a_dictionary,index=['david','mike','andy','jack'])\n",
    "print(obj4)\n",
    "#我们发现当中有null值,可以通过isnull来判断\n",
    "print(pd.isnull(obj4))\n",
    "#也可以这样\n",
    "print(obj4.isnull())"
   ]
  },
  {
   "cell_type": "markdown",
   "metadata": {},
   "source": [
    "## DataFrame\n",
    "DataFrame为表格型的数据结构。"
   ]
  },
  {
   "cell_type": "code",
   "execution_count": 6,
   "metadata": {},
   "outputs": [
    {
     "name": "stdout",
     "output_type": "stream",
     "text": [
      "    state  year  pop\n",
      "0    Ohio  2000  1.5\n",
      "1    Ohio  2001  1.7\n",
      "2    Ohio  2002  3.6\n",
      "3  Nevada  2001  2.4\n",
      "4  Nevada  2002  2.9\n",
      "5  Nevada  2003  3.2\n",
      "    state  year  pop\n",
      "0    Ohio  2000  1.5\n",
      "1    Ohio  2001  1.7\n",
      "2    Ohio  2002  3.6\n",
      "3  Nevada  2001  2.4\n",
      "4  Nevada  2002  2.9\n"
     ]
    }
   ],
   "source": [
    "import pandas as pd\n",
    "data = {'state': ['Ohio', 'Ohio', 'Ohio', 'Nevada', 'Nevada', 'Nevada'],\n",
    "        'year': [2000, 2001, 2002, 2001, 2002, 2003],\n",
    "        'pop': [1.5, 1.7, 3.6, 2.4, 2.9, 3.2]}\n",
    "frame = pd.DataFrame(data)\n",
    "print(frame)\n",
    "print(frame.head())"
   ]
  },
  {
   "cell_type": "markdown",
   "metadata": {},
   "source": [
    "当然也可以指定列的顺序"
   ]
  },
  {
   "cell_type": "code",
   "execution_count": 8,
   "metadata": {},
   "outputs": [
    {
     "data": {
      "text/html": [
       "<div>\n",
       "<style scoped>\n",
       "    .dataframe tbody tr th:only-of-type {\n",
       "        vertical-align: middle;\n",
       "    }\n",
       "\n",
       "    .dataframe tbody tr th {\n",
       "        vertical-align: top;\n",
       "    }\n",
       "\n",
       "    .dataframe thead th {\n",
       "        text-align: right;\n",
       "    }\n",
       "</style>\n",
       "<table border=\"1\" class=\"dataframe\">\n",
       "  <thead>\n",
       "    <tr style=\"text-align: right;\">\n",
       "      <th></th>\n",
       "      <th>pop</th>\n",
       "      <th>year</th>\n",
       "      <th>state</th>\n",
       "    </tr>\n",
       "  </thead>\n",
       "  <tbody>\n",
       "    <tr>\n",
       "      <th>0</th>\n",
       "      <td>1.5</td>\n",
       "      <td>2000</td>\n",
       "      <td>Ohio</td>\n",
       "    </tr>\n",
       "    <tr>\n",
       "      <th>1</th>\n",
       "      <td>1.7</td>\n",
       "      <td>2001</td>\n",
       "      <td>Ohio</td>\n",
       "    </tr>\n",
       "    <tr>\n",
       "      <th>2</th>\n",
       "      <td>3.6</td>\n",
       "      <td>2002</td>\n",
       "      <td>Ohio</td>\n",
       "    </tr>\n",
       "    <tr>\n",
       "      <th>3</th>\n",
       "      <td>2.4</td>\n",
       "      <td>2001</td>\n",
       "      <td>Nevada</td>\n",
       "    </tr>\n",
       "    <tr>\n",
       "      <th>4</th>\n",
       "      <td>2.9</td>\n",
       "      <td>2002</td>\n",
       "      <td>Nevada</td>\n",
       "    </tr>\n",
       "    <tr>\n",
       "      <th>5</th>\n",
       "      <td>3.2</td>\n",
       "      <td>2003</td>\n",
       "      <td>Nevada</td>\n",
       "    </tr>\n",
       "  </tbody>\n",
       "</table>\n",
       "</div>"
      ],
      "text/plain": [
       "   pop  year   state\n",
       "0  1.5  2000    Ohio\n",
       "1  1.7  2001    Ohio\n",
       "2  3.6  2002    Ohio\n",
       "3  2.4  2001  Nevada\n",
       "4  2.9  2002  Nevada\n",
       "5  3.2  2003  Nevada"
      ]
     },
     "execution_count": 8,
     "metadata": {},
     "output_type": "execute_result"
    }
   ],
   "source": [
    "pd.DataFrame(data,columns=['pop','year','state'])"
   ]
  },
  {
   "cell_type": "markdown",
   "metadata": {},
   "source": [
    "当然也可以在原来的数据中再加一列"
   ]
  },
  {
   "cell_type": "code",
   "execution_count": 16,
   "metadata": {},
   "outputs": [
    {
     "name": "stdout",
     "output_type": "stream",
     "text": [
      "   pop  year   state debt\n",
      "0  1.5  2000    Ohio  NaN\n",
      "1  1.7  2001    Ohio  NaN\n",
      "2  3.6  2002    Ohio  NaN\n",
      "3  2.4  2001  Nevada  NaN\n",
      "4  2.9  2002  Nevada  NaN\n",
      "5  3.2  2003  Nevada  NaN\n",
      "   pop  year   state debt\n",
      "1  1.5  2000    Ohio  NaN\n",
      "2  1.7  2001    Ohio  NaN\n",
      "3  3.6  2002    Ohio  NaN\n",
      "4  2.4  2001  Nevada  NaN\n",
      "5  2.9  2002  Nevada  NaN\n",
      "6  3.2  2003  Nevada  NaN\n"
     ]
    }
   ],
   "source": [
    "data2=pd.DataFrame(data,columns=['pop','year','state','debt'])\n",
    "print(data2)\n",
    "data2=pd.DataFrame(data,columns=['pop','year','state','debt'],index=list(range(1,7)))\n",
    "print(data2)"
   ]
  },
  {
   "cell_type": "markdown",
   "metadata": {},
   "source": [
    "当然可以给null的值赋值"
   ]
  },
  {
   "cell_type": "code",
   "execution_count": 25,
   "metadata": {},
   "outputs": [
    {
     "name": "stdout",
     "output_type": "stream",
     "text": [
      "   pop  year   state  debt\n",
      "1  1.5  2000    Ohio     1\n",
      "2  1.7  2001    Ohio     2\n",
      "3  3.6  2002    Ohio     3\n",
      "4  2.4  2001  Nevada     4\n",
      "5  2.9  2002  Nevada     5\n",
      "6  3.2  2003  Nevada     6\n",
      "1    1\n",
      "2    2\n",
      "3    3\n",
      "4    4\n",
      "5    5\n",
      "6    6\n",
      "Name: debt, dtype: int64\n",
      "1    1\n",
      "2    2\n",
      "3    3\n",
      "4    4\n",
      "5    5\n",
      "6    6\n",
      "Name: debt, dtype: int64\n"
     ]
    },
    {
     "name": "stderr",
     "output_type": "stream",
     "text": [
      "/var/folders/0n/6mryfm8x06gfzddk4dympfg80000gn/T/ipykernel_36999/681092870.py:2: SettingWithCopyWarning: \n",
      "A value is trying to be set on a copy of a slice from a DataFrame\n",
      "\n",
      "See the caveats in the documentation: https://pandas.pydata.org/pandas-docs/stable/user_guide/indexing.html#returning-a-view-versus-a-copy\n",
      "  data2['debt'][i]=i\n"
     ]
    }
   ],
   "source": [
    "for i in range(1,7):\n",
    "    data2['debt'][i]=i\n",
    "print(data2)\n",
    "print(data2['debt'])\n",
    "print(data2.debt)#这两种方式都是一样的"
   ]
  }
 ],
 "metadata": {
  "interpreter": {
   "hash": "21ee8af2579a8192c5b3880b850b5f93eed7daf2eb79d75b82c39de695db0d6e"
  },
  "kernelspec": {
   "display_name": "Python 3.9.7 ('base')",
   "language": "python",
   "name": "python3"
  },
  "language_info": {
   "codemirror_mode": {
    "name": "ipython",
    "version": 3
   },
   "file_extension": ".py",
   "mimetype": "text/x-python",
   "name": "python",
   "nbconvert_exporter": "python",
   "pygments_lexer": "ipython3",
   "version": "3.9.7"
  },
  "orig_nbformat": 4
 },
 "nbformat": 4,
 "nbformat_minor": 2
}
